{
 "cells": [
  {
   "cell_type": "code",
   "execution_count": null,
   "metadata": {},
   "outputs": [],
   "source": [
    "import networkx as nx\n",
    "import itertools\n",
    "import pandas as pd\n",
    "from collections import Counter\n",
    "\n",
    "\n",
    "def graphlet_vector_count(G):\n",
    "    \"\"\"\n",
    "    Computes the graphlet vector count for small graphlets (size 2 to 3).\n",
    "\n",
    "    Parameters:\n",
    "        G (networkx.Graph): The input graph.\n",
    "\n",
    "    Returns:\n",
    "        dict: A dictionary where keys are graphlet types and values are their counts.\n",
    "    \"\"\"\n",
    "    graphlet_counts = Counter()\n",
    "\n",
    "    # Count edges (2-node graphlet)\n",
    "    graphlet_counts[\"edge\"] = G.number_of_edges()\n",
    "\n",
    "    # Find 3-node subgraphs\n",
    "    for nodes in itertools.combinations(G.nodes, 3):\n",
    "        subG = G.subgraph(nodes)\n",
    "        edges = subG.number_of_edges()\n",
    "        if edges == 2:\n",
    "            graphlet_counts[\"path-3\"] += 1  # Path of 3 nodes\n",
    "        elif edges == 3:\n",
    "            graphlet_counts[\"triangle\"] += 1  # Triangle clique\n",
    "\n",
    "    return dict(graphlet_counts)\n",
    "\n",
    "\n",
    "# Load Zachary's Karate Club graph\n",
    "G = nx.karate_club_graph()\n",
    "\n",
    "# Compute graphlet vector\n",
    "graphlet_vector = graphlet_vector_count(G)\n",
    "\n",
    "# Convert to DataFrame for better visualization\n",
    "df = pd.DataFrame(graphlet_vector.items(), columns=[\"Graphlet Type\", \"Count\"])\n",
    "\n",
    "# Display the results\n",
    "print(df)\n"
   ]
  },
  {
   "cell_type": "code",
   "execution_count": null,
   "metadata": {},
   "outputs": [],
   "source": []
  }
 ],
 "metadata": {
  "kernelspec": {
   "display_name": "cop-gnn-IZjXzcTC-py3.12",
   "language": "python",
   "name": "python3"
  },
  "language_info": {
   "codemirror_mode": {
    "name": "ipython",
    "version": 3
   },
   "file_extension": ".py",
   "mimetype": "text/x-python",
   "name": "python",
   "nbconvert_exporter": "python",
   "pygments_lexer": "ipython3",
   "version": "3.12.8"
  }
 },
 "nbformat": 4,
 "nbformat_minor": 2
}
