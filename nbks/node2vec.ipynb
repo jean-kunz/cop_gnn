{
 "cells": [
  {
   "cell_type": "code",
   "execution_count": 1,
   "metadata": {},
   "outputs": [],
   "source": [
    "%load_ext autoreload\n",
    "%autoreload 2   "
   ]
  },
  {
   "cell_type": "code",
   "execution_count": 2,
   "metadata": {},
   "outputs": [
    {
     "name": "stderr",
     "output_type": "stream",
     "text": [
      "ic| device: 'mps'\n"
     ]
    }
   ],
   "source": [
    "import torch\n",
    "import torch.nn as nn\n",
    "import networkx as nx\n",
    "import numpy as np\n",
    "from icecream import ic\n",
    "\n",
    "from sklearn.decomposition import PCA\n",
    "import torch.optim as optim\n",
    "\n",
    "import random\n",
    "\n",
    "import matplotlib.pyplot as plt\n",
    "\n",
    "\n",
    "device = \"mps\" if torch.backends.mps.is_available() else \"cpu\"\n",
    "ic(device);"
   ]
  },
  {
   "cell_type": "code",
   "execution_count": 3,
   "metadata": {},
   "outputs": [
    {
     "data": {
      "text/plain": [
       "<torch._C.Generator at 0x10eda7070>"
      ]
     },
     "execution_count": 3,
     "metadata": {},
     "output_type": "execute_result"
    }
   ],
   "source": [
    "# Set seeds for reproducibility\n",
    "random.seed(42)\n",
    "np.random.seed(42)\n",
    "torch.manual_seed(42)\n"
   ]
  },
  {
   "cell_type": "code",
   "execution_count": 4,
   "metadata": {},
   "outputs": [],
   "source": [
    "# Load the Zachary Karate Club graph\n",
    "G = nx.karate_club_graph()\n",
    "num_nodes = G.number_of_nodes()\n"
   ]
  },
  {
   "cell_type": "code",
   "execution_count": 13,
   "metadata": {},
   "outputs": [
    {
     "name": "stderr",
     "output_type": "stream",
     "text": [
      "ic| node: 0\n",
      "ic| walk: [0, 11, 0, 7, 2, 1, 21, 0, 5, 10]\n",
      "ic| walk: [0, 12, 0, 12, 0, 31, 25, 31, 0, 21]\n",
      "ic| walk: [0, 17, 0, 4, 10, 0, 1, 13, 0, 13]\n",
      "ic| walk: [0, 2, 7, 2, 27, 24, 27, 2, 1, 21]\n",
      "ic| walk: [0, 2, 13, 2, 7, 2, 8, 0, 13, 3]\n",
      "ic| walk: [0, 11, 0, 2, 9, 33, 28, 31, 33, 23]\n",
      "ic| walk: [0, 4, 0, 17, 0, 11, 0, 19, 33, 19]\n",
      "ic| walk: [0, 19, 0, 1, 13, 1, 30, 8, 0, 12]\n",
      "ic| walk: [0, 4, 10, 5, 0, 2, 9, 33, 9, 2]\n",
      "ic| walk: [0, 8, 30, 33, 15, 32, 30, 33, 31, 25]\n"
     ]
    }
   ],
   "source": [
    "def get_alias_edge(G, src, dst, p, q):\n",
    "    \"\"\"Compute transition probabilities for neighbors of 'dst' based on Node2Vec bias.\"\"\"\n",
    "    unnormalized_probs = []\n",
    "    for neighbor in G[dst]:\n",
    "        if neighbor == src:\n",
    "            weight = 1.0 / p\n",
    "        elif G.has_edge(neighbor, src):\n",
    "            weight = 1.0\n",
    "        else:\n",
    "            weight = 1.0 / q\n",
    "        unnormalized_probs.append(weight)\n",
    "    norm_const = sum(unnormalized_probs)\n",
    "    normalized_probs = [w / norm_const for w in unnormalized_probs]\n",
    "    return list(G[dst]), normalized_probs\n",
    "\n",
    "\n",
    "def node2vec_walk(G, start, walk_length, p, q):\n",
    "    \"\"\"Generate a random walk starting from the given node.\"\"\"\n",
    "    walk = [start]\n",
    "    while len(walk) < walk_length:\n",
    "        cur = walk[-1]\n",
    "        neighbors = list(G.neighbors(cur))\n",
    "        if len(neighbors) == 0:\n",
    "            break\n",
    "        if len(walk) == 1:\n",
    "            next_node = random.choice(neighbors)\n",
    "        else:\n",
    "            prev = walk[-2]\n",
    "            candidates, probs = get_alias_edge(G, prev, cur, p, q)\n",
    "            next_node = random.choices(candidates, weights=probs, k=1)[0]\n",
    "        walk.append(next_node)\n",
    "    return walk\n",
    "\n",
    "\n",
    "nodes = list(G.nodes())\n",
    "node = nodes[0]\n",
    "ic(node)\n",
    "for i in range(10):\n",
    "    walk = node2vec_walk(G, start=node, walk_length=10, p=1, q=1)\n",
    "    ic(walk)"
   ]
  },
  {
   "cell_type": "code",
   "execution_count": null,
   "metadata": {},
   "outputs": [],
   "source": [
    "# Generate random walks for all nodes\n",
    "\n",
    "# Node2Vec parameters\n",
    "p = 1.0\n",
    "q = 1.0\n",
    "walk_length = 10\n",
    "num_walks = 10\n",
    "walks = []\n",
    "for _ in range(num_walks):\n",
    "    nodes = list(G.nodes())\n",
    "    random.shuffle(nodes)\n",
    "    for node in nodes:\n",
    "        walk = node2vec_walk(G, node, walk_length, p, q)\n",
    "        walks.append(walk)\n"
   ]
  },
  {
   "cell_type": "code",
   "execution_count": null,
   "metadata": {},
   "outputs": [
    {
     "name": "stdout",
     "output_type": "stream",
     "text": [
      "Using device: mps\n",
      "Epoch 10, Loss: 1.9448\n",
      "Epoch 20, Loss: 1.9455\n",
      "Epoch 30, Loss: 1.9412\n",
      "Epoch 40, Loss: 1.9355\n",
      "Epoch 50, Loss: 1.9385\n",
      "Epoch 60, Loss: 1.9352\n",
      "Epoch 70, Loss: 1.9410\n",
      "Epoch 80, Loss: 1.9390\n",
      "Epoch 90, Loss: 1.9320\n",
      "Epoch 100, Loss: 1.9464\n",
      "\n",
      "Learned embeddings:\n",
      "Node 0: [-0.39784876 -0.10037155  0.36428046  0.33910775 -0.9396972   0.8479562\n",
      "  0.58180153 -0.11135224  0.10276927 -0.12751383  0.07395329  0.18825679\n",
      " -0.47200906  0.6404113  -0.3034547   0.41798705]\n",
      "Node 1: [-0.54123664  0.51017624  0.52953696  0.6523416  -0.16852173  0.68000513\n",
      "  1.1010289  -0.00638974 -0.39836645  0.89346117 -0.06930356  1.6636235\n",
      " -0.25710982  0.67334473 -0.12432358  0.00616604]\n",
      "Node 2: [-1.5413933   0.5466617   0.420876    0.47642332  0.20124696 -0.07936399\n",
      "  0.4144282  -0.0876025   0.33165202 -0.06580546  0.15098712  0.8280409\n",
      " -0.21460588 -0.28932986 -0.60366285  0.5857741 ]\n",
      "Node 3: [-0.57811975  0.38264352  0.33029222  0.42872307 -0.37558937  0.38973784\n",
      "  1.3072366  -0.07389258  0.3253857   1.30809     0.76573265  0.7182252\n",
      "  0.14050107  0.68838435 -0.19308683  1.0270749 ]\n",
      "Node 4: [-0.31871337 -0.2604116  -0.22913559 -0.0758434  -1.7209748   0.2478439\n",
      "  0.69047904  0.3133002   0.23192592  0.40804175  0.22466624  0.5590796\n",
      " -0.86976767  1.7661817  -1.827777    0.01349131]\n",
      "Node 5: [-0.26304707  0.01645938 -0.01023434  0.25096002 -1.3081532  -0.3165218\n",
      "  0.9658226   0.20188335  0.15837058  0.43433183  0.34492353 -0.02974844\n",
      " -0.95692414  1.4329137  -2.713561    0.10998527]\n",
      "Node 6: [-0.5762508   0.14279024 -0.21231541  0.2935726  -1.3625299   0.9704513\n",
      "  0.9290636   1.0378714   0.1507652   0.8657065   0.10631026 -0.43350026\n",
      " -0.4874551   1.1238906  -1.4935654  -0.43302852]\n",
      "Node 7: [-0.908624    0.4797352  -0.27646214  1.7294124  -0.53655326  0.13819045\n",
      "  1.256397   -0.52049875  0.20213532  0.13091236  0.43069503  1.0286232\n",
      "  0.5049531   0.38067412 -0.8396175   0.22598872]\n",
      "Node 8: [-0.6450591   0.6516789  -0.2678797  -0.24646306 -0.08396038  0.5187548\n",
      " -0.16496459 -0.224345   -0.25826705 -0.06548161  0.9389717   1.2267367\n",
      "  0.08670902  0.10665563 -0.29245383 -0.17613743]\n",
      "Node 9: [-1.3022968   0.53137124  0.949396    0.40915728  0.18715188  0.6311087\n",
      " -0.03093584  0.29264888  0.65394753  1.3404197   0.1838471   0.6387666\n",
      " -0.70607144 -0.8684352   0.23147176  0.129589  ]\n",
      "Node 10: [-0.21340246  0.21568611 -0.05969657  0.00634253 -1.4273028   0.7184848\n",
      "  1.4817713   0.10926783  0.30596963  0.42667535  0.16524996 -0.36755663\n",
      " -0.81402224  1.2109752  -1.1013879  -0.56826913]\n",
      "Node 11: [-1.4275218   0.63734937  0.48649484 -0.9021398  -1.8620515   0.9386702\n",
      "  1.3924774   0.23253721  0.44707114 -0.22049375  0.0488744   0.2794989\n",
      "  0.19187038  1.1513866  -0.7327773   0.40822867]\n",
      "Node 12: [-1.2096289   0.04069544  0.5862167  -0.35975236 -2.1629057   0.24084076\n",
      "  1.541066   -0.58137405 -0.98461854  0.91952837  0.56270176 -0.11566948\n",
      " -0.33997348  0.5542352  -0.67762154  0.41906628]\n",
      "Node 13: [-0.8847937  -0.72870153  0.11272546  0.17233114  0.54995495  0.921374\n",
      " -0.02117257 -0.61153376 -0.38697326  1.2693714   0.51884115  0.598011\n",
      "  0.06866898  0.37694228 -0.630461    0.14482827]\n",
      "Node 14: [-0.6912191   0.63243884  0.9473657  -0.10697    -0.16331825  0.32571784\n",
      " -0.92420244  0.17942326  0.65471524  0.10089863  2.031669    1.351884\n",
      "  0.01350641 -0.5776587  -0.26911613 -0.9738136 ]\n",
      "Node 15: [-0.5608061   0.43812752  1.6619134   0.58562464  0.02951763  0.14826593\n",
      " -0.67907375  0.2829083   0.37708884  0.37574747  0.9224375   0.7173559\n",
      " -0.47326887 -0.4782316  -0.38976467 -2.1106868 ]\n",
      "Node 16: [-0.36797026  0.21801843 -0.11390259  0.4098277  -0.76117575  0.8381134\n",
      "  0.49553734  0.56917673  0.6120817   0.38763192  0.53593826 -0.5885849\n",
      " -1.1562846   3.0399349  -2.8423157  -0.36542293]\n",
      "Node 17: [-0.65176255  0.3865478  -0.14408806  0.8842036  -1.4423704  -0.0790842\n",
      "  1.5408162  -0.5231421   0.2195739   0.58137923  0.14229701  0.93376845\n",
      " -0.2650726   1.9225831   0.11342452 -0.03428471]\n",
      "Node 18: [-0.1789752   0.82888144  1.4666693   1.420489    0.42497465  0.08622482\n",
      " -0.3497376   0.5145313   0.36653477  0.01751539  0.7150881   0.400026\n",
      " -0.8296856  -0.31862572 -0.12872885 -1.2852458 ]\n",
      "Node 19: [-0.33360192 -0.4654139  -0.07283986 -0.3995656  -0.96044695  0.21690577\n",
      " -0.9051362   0.19598648  0.72157013  1.2296779  -0.6782389   1.6749293\n",
      " -0.771122   -0.40040472 -0.65017015  0.3673947 ]\n",
      "Node 20: [-0.5182246   1.007329    1.557763    0.16958685  0.21086685  0.47743607\n",
      " -0.6940545   0.22154033  0.2180921   0.8520355   0.58701265  0.7752523\n",
      "  0.07299832 -0.37472144 -0.3570755  -1.8045334 ]\n",
      "Node 21: [ 0.09927208 -0.16765323  0.01004733  0.3751904  -1.284356    0.6895475\n",
      "  1.1571451  -0.8123745   0.6089291   1.2392278  -0.24082862  1.2162457\n",
      " -0.24289893  1.3244061  -0.08677791 -0.65049446]\n",
      "Node 22: [-1.3231944   0.24938121  1.4314307   0.5312275  -0.4392536   0.5002807\n",
      " -1.2683163   0.09593406 -0.00519707 -0.0901712   0.42315766  0.40675285\n",
      "  0.1381663  -0.13253674 -0.3332866  -2.1229484 ]\n",
      "Node 23: [-0.5583397   1.7698998   0.792328    0.31923535 -0.29853898 -0.04512687\n",
      " -1.6173214   0.1551998   0.02243099  0.5336457   1.0375928  -0.29664302\n",
      " -0.45248556  0.65781087  0.35540178 -0.24523613]\n",
      "Node 24: [-0.25470027  2.3923488   0.04999651  1.3916287  -0.95044196  0.809516\n",
      " -1.7436864  -0.18819867 -0.25132135  0.15602     0.01116866 -0.11526316\n",
      " -0.29512513 -0.28396118 -1.5093821   0.9247108 ]\n",
      "Node 25: [ 0.7892531   2.406425    0.6009565   0.22602545 -0.88695705  0.49951833\n",
      " -1.5638528  -1.5023515   0.24663483  0.12753494  0.6593242  -0.21967275\n",
      " -0.4550685   0.17382638 -1.1789148   0.3630471 ]\n",
      "Node 26: [ 0.57677436 -0.38800943  1.9035718   0.5197784  -0.02558365  0.17400831\n",
      " -1.6946743  -0.7524617   1.1809977  -0.19536588  1.1086545   0.48952207\n",
      " -0.93320036  0.7611573  -0.6341525  -1.5750002 ]\n",
      "Node 27: [-0.92861205  0.56448627  1.1035984   1.3048649  -0.48923716 -0.29615504\n",
      " -0.9060539  -0.38144287 -0.5347152   0.6132401   0.83481663 -0.44515345\n",
      " -0.15398219 -0.3497021  -0.25107038  0.54045   ]\n",
      "Node 28: [-0.8003768   0.5578823   0.6194791  -0.0819062  -0.5779516   1.2584206\n",
      " -0.39315474 -0.04115508  0.53209287  0.7931207   0.46571398 -0.31953397\n",
      " -0.28751308 -0.9136676   0.19674103  0.12644038]\n",
      "Node 29: [-0.21958037  0.718569    1.7677035  -0.23103337  0.2453366  -0.12431784\n",
      " -1.7384969   0.4420486   0.5902336   0.21023284  0.81929886  0.03269793\n",
      " -0.44328383  1.1157566  -0.4747593  -0.8642408 ]\n",
      "Node 30: [-0.8139134   0.12639113  0.44252977 -0.11035634 -0.18511726 -0.59073305\n",
      " -0.09337804 -1.1368748  -0.4769796   0.6263346   0.3535202   0.942428\n",
      " -1.2804633   0.09025089  0.15995532 -0.8745923 ]\n",
      "Node 31: [-0.33851713  1.088856    0.10624111  0.01827953  0.01737467  0.8770456\n",
      " -0.34208396 -0.56239825  0.11754119 -0.2540512  -0.2529244  -0.2206357\n",
      " -0.55745775  0.23308733 -0.57801795  0.0847554 ]\n",
      "Node 32: [-0.9029559   0.47463506 -0.05982716  0.48674947 -0.03826705 -0.00124789\n",
      " -0.9439305  -0.05127173  0.31445965  0.43490118  0.8521186   0.42799765\n",
      " -0.9860303  -0.02857908  0.22551066 -0.7156482 ]\n",
      "Node 33: [-0.7707615   0.54539186  0.8189972   0.11041917 -0.13644375  0.1219948\n",
      " -0.68997204 -0.59460545  0.62254834  0.34921977  0.19662961  0.17624763\n",
      "  0.08700428  0.02846119  0.00354309 -0.48963305]\n"
     ]
    },
    {
     "data": {
      "image/png": "[encoded data removed]",
      "text/plain": [
       "<Figure size 800x600 with 1 Axes>"
      ]
     },
     "metadata": {},
     "output_type": "display_data"
    }
   ],
   "source": [
    "window_size = 2\n",
    "embedding_dim = 16\n",
    "num_negative_samples = 5\n",
    "\n",
    "\n",
    "# Create training pairs using a sliding window over each walk\n",
    "pairs = []\n",
    "for walk in walks:\n",
    "    for i, target in enumerate(walk):\n",
    "        start = max(0, i - window_size)\n",
    "        end = min(len(walk), i + window_size + 1)\n",
    "        for j in range(start, end):\n",
    "            if i != j:\n",
    "                pairs.append((target, walk[j]))\n",
    "pairs = np.array(pairs)\n",
    "\n",
    "\n",
    "# Define the Node2Vec Skip-Gram model\n",
    "class Node2Vec(nn.Module):\n",
    "    def __init__(self, num_nodes, embedding_dim):\n",
    "        super(Node2Vec, self).__init__()\n",
    "        self.in_embeddings = nn.Embedding(num_nodes, embedding_dim)\n",
    "        self.out_embeddings = nn.Embedding(num_nodes, embedding_dim)\n",
    "        nn.init.xavier_uniform_(self.in_embeddings.weight)\n",
    "        nn.init.xavier_uniform_(self.out_embeddings.weight)\n",
    "\n",
    "    def forward(self, target, context, negative):\n",
    "        embed_target = self.in_embeddings(target)  # (batch, embedding_dim)\n",
    "        embed_context = self.out_embeddings(context)  # (batch, embedding_dim)\n",
    "        score = torch.sum(embed_target * embed_context, dim=1)\n",
    "        log_target = torch.log(torch.sigmoid(score) + 1e-10)\n",
    "\n",
    "        embed_negative = self.out_embeddings(\n",
    "            negative\n",
    "        )  # (batch, num_negative, embedding_dim)\n",
    "        neg_score = torch.bmm(embed_negative, embed_target.unsqueeze(2)).squeeze()\n",
    "        log_negative = torch.sum(torch.log(torch.sigmoid(-neg_score) + 1e-10), dim=1)\n",
    "\n",
    "        loss = -(log_target + log_negative)\n",
    "        return loss.mean()\n",
    "\n",
    "\n",
    "model = Node2Vec(num_nodes, embedding_dim).to(device)\n",
    "optimizer = optim.Adam(model.parameters(), lr=0.01)\n",
    "\n",
    "# Training loop\n",
    "num_epochs = 100\n",
    "batch_size = 64\n",
    "num_batches = len(pairs) // batch_size + 1\n",
    "\n",
    "for epoch in range(num_epochs):\n",
    "    np.random.shuffle(pairs)\n",
    "    epoch_loss = 0\n",
    "    for i in range(0, len(pairs), batch_size):\n",
    "        batch = pairs[i : i + batch_size]\n",
    "        target_batch = torch.LongTensor(batch[:, 0]).to(device)\n",
    "        context_batch = torch.LongTensor(batch[:, 1]).to(device)\n",
    "        negative_batch = torch.LongTensor(\n",
    "            np.random.randint(0, num_nodes, size=(len(batch), num_negative_samples))\n",
    "        ).to(device)\n",
    "\n",
    "        optimizer.zero_grad()\n",
    "        loss = model(target_batch, context_batch, negative_batch)\n",
    "        loss.backward()\n",
    "        optimizer.step()\n",
    "        epoch_loss += loss.item()\n",
    "    if (epoch + 1) % 10 == 0:\n",
    "        print(f\"Epoch {epoch + 1}, Loss: {epoch_loss / num_batches:.4f}\")\n",
    "\n",
    "# Retrieve learned embeddings\n",
    "embeddings = model.in_embeddings.weight.data.cpu().numpy()\n",
    "print(\"\\nLearned embeddings:\")\n",
    "for node in range(num_nodes):\n",
    "    print(f\"Node {node}: {embeddings[node]}\")\n",
    "\n",
    "# Use PCA to reduce the embeddings to 2D for visualization\n",
    "pca = PCA(n_components=2)\n",
    "embeddings_2d = pca.fit_transform(embeddings)\n",
    "\n",
    "# Create colors list based on club membership: red for 'Mr. Hi', blue for others.\n",
    "colors = []\n",
    "for node in range(num_nodes):\n",
    "    club = G.nodes[node][\"club\"]\n",
    "    colors.append(\"red\" if club == \"Mr. Hi\" else \"blue\")\n",
    "\n",
    "# Plotting the PCA visualization\n",
    "plt.figure(figsize=(8, 6))\n",
    "plt.scatter(embeddings_2d[:, 0], embeddings_2d[:, 1], c=colors)\n",
    "for i in range(num_nodes):\n",
    "    plt.annotate(str(i), (embeddings_2d[i, 0], embeddings_2d[i, 1]), fontsize=9)\n",
    "plt.title(\"PCA Visualization of Node2Vec Embeddings\")\n",
    "plt.xlabel(\"Principal Component 1\")\n",
    "plt.ylabel(\"Principal Component 2\")\n",
    "plt.show()"
   ]
  },
  {
   "cell_type": "code",
   "execution_count": null,
   "metadata": {},
   "outputs": [],
   "source": []
  },
  {
   "cell_type": "code",
   "execution_count": null,
   "metadata": {},
   "outputs": [],
   "source": []
  },
  {
   "cell_type": "markdown",
   "metadata": {},
   "source": [
    "## gemini"
   ]
  },
  {
   "cell_type": "code",
   "execution_count": null,
   "metadata": {},
   "outputs": [
    {
     "name": "stdout",
     "output_type": "stream",
     "text": [
      "Using device: mps\n"
     ]
    },
    {
     "name": "stderr",
     "output_type": "stream",
     "text": [
      "Epoch 1/50: 100%|██████████| 1807/1807 [00:04<00:00, 362.96it/s]\n"
     ]
    },
    {
     "name": "stdout",
     "output_type": "stream",
     "text": [
      "Epoch 1/50, Loss: 1.3812841042991757\n"
     ]
    },
    {
     "name": "stderr",
     "output_type": "stream",
     "text": [
      "Epoch 2/50: 100%|██████████| 1807/1807 [00:03<00:00, 491.31it/s]\n"
     ]
    },
    {
     "name": "stdout",
     "output_type": "stream",
     "text": [
      "Epoch 2/50, Loss: 1.376141531918928\n"
     ]
    },
    {
     "name": "stderr",
     "output_type": "stream",
     "text": [
      "Epoch 3/50: 100%|██████████| 1807/1807 [00:03<00:00, 496.67it/s]\n"
     ]
    },
    {
     "name": "stdout",
     "output_type": "stream",
     "text": [
      "Epoch 3/50, Loss: 1.3759483701630948\n"
     ]
    },
    {
     "name": "stderr",
     "output_type": "stream",
     "text": [
      "Epoch 4/50: 100%|██████████| 1807/1807 [00:03<00:00, 505.28it/s]\n"
     ]
    },
    {
     "name": "stdout",
     "output_type": "stream",
     "text": [
      "Epoch 4/50, Loss: 1.377311100727432\n"
     ]
    },
    {
     "name": "stderr",
     "output_type": "stream",
     "text": [
      "Epoch 5/50: 100%|██████████| 1807/1807 [00:03<00:00, 492.36it/s]\n"
     ]
    },
    {
     "name": "stdout",
     "output_type": "stream",
     "text": [
      "Epoch 5/50, Loss: 1.3767157481160275\n"
     ]
    },
    {
     "name": "stderr",
     "output_type": "stream",
     "text": [
      "Epoch 6/50: 100%|██████████| 1807/1807 [00:03<00:00, 486.42it/s]\n"
     ]
    },
    {
     "name": "stdout",
     "output_type": "stream",
     "text": [
      "Epoch 6/50, Loss: 1.3720891716604349\n"
     ]
    },
    {
     "name": "stderr",
     "output_type": "stream",
     "text": [
      "Epoch 7/50: 100%|██████████| 1807/1807 [00:03<00:00, 515.72it/s]\n"
     ]
    },
    {
     "name": "stdout",
     "output_type": "stream",
     "text": [
      "Epoch 7/50, Loss: 1.3798854574148574\n"
     ]
    },
    {
     "name": "stderr",
     "output_type": "stream",
     "text": [
      "Epoch 8/50: 100%|██████████| 1807/1807 [00:03<00:00, 532.70it/s]\n"
     ]
    },
    {
     "name": "stdout",
     "output_type": "stream",
     "text": [
      "Epoch 8/50, Loss: 1.375138282973901\n"
     ]
    },
    {
     "name": "stderr",
     "output_type": "stream",
     "text": [
      "Epoch 9/50: 100%|██████████| 1807/1807 [00:03<00:00, 527.76it/s]\n"
     ]
    },
    {
     "name": "stdout",
     "output_type": "stream",
     "text": [
      "Epoch 9/50, Loss: 1.372982275446388\n"
     ]
    },
    {
     "name": "stderr",
     "output_type": "stream",
     "text": [
      "Epoch 10/50: 100%|██████████| 1807/1807 [00:03<00:00, 530.77it/s]\n"
     ]
    },
    {
     "name": "stdout",
     "output_type": "stream",
     "text": [
      "Epoch 10/50, Loss: 1.379632944416498\n"
     ]
    },
    {
     "name": "stderr",
     "output_type": "stream",
     "text": [
      "Epoch 11/50: 100%|██████████| 1807/1807 [00:03<00:00, 501.36it/s]\n"
     ]
    },
    {
     "name": "stdout",
     "output_type": "stream",
     "text": [
      "Epoch 11/50, Loss: 1.3757944806733664\n"
     ]
    },
    {
     "name": "stderr",
     "output_type": "stream",
     "text": [
      "Epoch 12/50: 100%|██████████| 1807/1807 [00:03<00:00, 529.37it/s]\n"
     ]
    },
    {
     "name": "stdout",
     "output_type": "stream",
     "text": [
      "Epoch 12/50, Loss: 1.3774814407030742\n"
     ]
    },
    {
     "name": "stderr",
     "output_type": "stream",
     "text": [
      "Epoch 13/50: 100%|██████████| 1807/1807 [00:03<00:00, 554.58it/s]\n"
     ]
    },
    {
     "name": "stdout",
     "output_type": "stream",
     "text": [
      "Epoch 13/50, Loss: 1.3776856358199157\n"
     ]
    },
    {
     "name": "stderr",
     "output_type": "stream",
     "text": [
      "Epoch 14/50: 100%|██████████| 1807/1807 [00:03<00:00, 549.97it/s]\n"
     ]
    },
    {
     "name": "stdout",
     "output_type": "stream",
     "text": [
      "Epoch 14/50, Loss: 1.3734584816402506\n"
     ]
    },
    {
     "name": "stderr",
     "output_type": "stream",
     "text": [
      "Epoch 15/50: 100%|██████████| 1807/1807 [00:03<00:00, 537.37it/s]\n"
     ]
    },
    {
     "name": "stdout",
     "output_type": "stream",
     "text": [
      "Epoch 15/50, Loss: 1.3767400545667308\n"
     ]
    },
    {
     "name": "stderr",
     "output_type": "stream",
     "text": [
      "Epoch 16/50: 100%|██████████| 1807/1807 [00:03<00:00, 508.13it/s]\n"
     ]
    },
    {
     "name": "stdout",
     "output_type": "stream",
     "text": [
      "Epoch 16/50, Loss: 1.3766433988694733\n"
     ]
    },
    {
     "name": "stderr",
     "output_type": "stream",
     "text": [
      "Epoch 17/50: 100%|██████████| 1807/1807 [00:03<00:00, 541.97it/s]\n"
     ]
    },
    {
     "name": "stdout",
     "output_type": "stream",
     "text": [
      "Epoch 17/50, Loss: 1.37418589421681\n"
     ]
    },
    {
     "name": "stderr",
     "output_type": "stream",
     "text": [
      "Epoch 18/50: 100%|██████████| 1807/1807 [00:03<00:00, 536.52it/s]\n"
     ]
    },
    {
     "name": "stdout",
     "output_type": "stream",
     "text": [
      "Epoch 18/50, Loss: 1.372426487480683\n"
     ]
    },
    {
     "name": "stderr",
     "output_type": "stream",
     "text": [
      "Epoch 19/50: 100%|██████████| 1807/1807 [00:03<00:00, 535.95it/s]\n"
     ]
    },
    {
     "name": "stdout",
     "output_type": "stream",
     "text": [
      "Epoch 19/50, Loss: 1.379715994809025\n"
     ]
    },
    {
     "name": "stderr",
     "output_type": "stream",
     "text": [
      "Epoch 20/50: 100%|██████████| 1807/1807 [00:03<00:00, 521.12it/s]\n"
     ]
    },
    {
     "name": "stdout",
     "output_type": "stream",
     "text": [
      "Epoch 20/50, Loss: 1.3792267798849382\n"
     ]
    },
    {
     "name": "stderr",
     "output_type": "stream",
     "text": [
      "Epoch 21/50: 100%|██████████| 1807/1807 [00:03<00:00, 543.01it/s]\n"
     ]
    },
    {
     "name": "stdout",
     "output_type": "stream",
     "text": [
      "Epoch 21/50, Loss: 1.3748291289621546\n"
     ]
    },
    {
     "name": "stderr",
     "output_type": "stream",
     "text": [
      "Epoch 22/50: 100%|██████████| 1807/1807 [00:03<00:00, 557.58it/s]\n"
     ]
    },
    {
     "name": "stdout",
     "output_type": "stream",
     "text": [
      "Epoch 22/50, Loss: 1.3761418020210392\n"
     ]
    },
    {
     "name": "stderr",
     "output_type": "stream",
     "text": [
      "Epoch 23/50: 100%|██████████| 1807/1807 [00:03<00:00, 549.96it/s]\n"
     ]
    },
    {
     "name": "stdout",
     "output_type": "stream",
     "text": [
      "Epoch 23/50, Loss: 1.3769184865824804\n"
     ]
    },
    {
     "name": "stderr",
     "output_type": "stream",
     "text": [
      "Epoch 24/50: 100%|██████████| 1807/1807 [00:03<00:00, 551.20it/s]\n"
     ]
    },
    {
     "name": "stdout",
     "output_type": "stream",
     "text": [
      "Epoch 24/50, Loss: 1.3752320298588818\n"
     ]
    },
    {
     "name": "stderr",
     "output_type": "stream",
     "text": [
      "Epoch 25/50: 100%|██████████| 1807/1807 [00:03<00:00, 552.46it/s]\n"
     ]
    },
    {
     "name": "stdout",
     "output_type": "stream",
     "text": [
      "Epoch 25/50, Loss: 1.3766816362722107\n"
     ]
    },
    {
     "name": "stderr",
     "output_type": "stream",
     "text": [
      "Epoch 26/50: 100%|██████████| 1807/1807 [00:03<00:00, 524.37it/s]\n"
     ]
    },
    {
     "name": "stdout",
     "output_type": "stream",
     "text": [
      "Epoch 26/50, Loss: 1.3806616826970977\n"
     ]
    },
    {
     "name": "stderr",
     "output_type": "stream",
     "text": [
      "Epoch 27/50: 100%|██████████| 1807/1807 [00:03<00:00, 526.22it/s]\n"
     ]
    },
    {
     "name": "stdout",
     "output_type": "stream",
     "text": [
      "Epoch 27/50, Loss: 1.3747811397312752\n"
     ]
    },
    {
     "name": "stderr",
     "output_type": "stream",
     "text": [
      "Epoch 28/50: 100%|██████████| 1807/1807 [00:03<00:00, 537.12it/s]\n"
     ]
    },
    {
     "name": "stdout",
     "output_type": "stream",
     "text": [
      "Epoch 28/50, Loss: 1.3821320199095133\n"
     ]
    },
    {
     "name": "stderr",
     "output_type": "stream",
     "text": [
      "Epoch 29/50: 100%|██████████| 1807/1807 [00:03<00:00, 519.58it/s]\n"
     ]
    },
    {
     "name": "stdout",
     "output_type": "stream",
     "text": [
      "Epoch 29/50, Loss: 1.375987089485557\n"
     ]
    },
    {
     "name": "stderr",
     "output_type": "stream",
     "text": [
      "Epoch 30/50: 100%|██████████| 1807/1807 [00:03<00:00, 523.97it/s]\n"
     ]
    },
    {
     "name": "stdout",
     "output_type": "stream",
     "text": [
      "Epoch 30/50, Loss: 1.3750892892100355\n"
     ]
    },
    {
     "name": "stderr",
     "output_type": "stream",
     "text": [
      "Epoch 31/50: 100%|██████████| 1807/1807 [00:03<00:00, 536.75it/s]\n"
     ]
    },
    {
     "name": "stdout",
     "output_type": "stream",
     "text": [
      "Epoch 31/50, Loss: 1.3748656252557918\n"
     ]
    },
    {
     "name": "stderr",
     "output_type": "stream",
     "text": [
      "Epoch 32/50: 100%|██████████| 1807/1807 [00:03<00:00, 539.89it/s]\n"
     ]
    },
    {
     "name": "stdout",
     "output_type": "stream",
     "text": [
      "Epoch 32/50, Loss: 1.3755656576499855\n"
     ]
    },
    {
     "name": "stderr",
     "output_type": "stream",
     "text": [
      "Epoch 33/50: 100%|██████████| 1807/1807 [00:03<00:00, 530.81it/s]\n"
     ]
    },
    {
     "name": "stdout",
     "output_type": "stream",
     "text": [
      "Epoch 33/50, Loss: 1.381294472999087\n"
     ]
    },
    {
     "name": "stderr",
     "output_type": "stream",
     "text": [
      "Epoch 34/50: 100%|██████████| 1807/1807 [00:03<00:00, 535.27it/s]\n"
     ]
    },
    {
     "name": "stdout",
     "output_type": "stream",
     "text": [
      "Epoch 34/50, Loss: 1.3772632915976304\n"
     ]
    },
    {
     "name": "stderr",
     "output_type": "stream",
     "text": [
      "Epoch 35/50: 100%|██████████| 1807/1807 [00:03<00:00, 541.01it/s]\n"
     ]
    },
    {
     "name": "stdout",
     "output_type": "stream",
     "text": [
      "Epoch 35/50, Loss: 1.3762437494622248\n"
     ]
    },
    {
     "name": "stderr",
     "output_type": "stream",
     "text": [
      "Epoch 36/50: 100%|██████████| 1807/1807 [00:03<00:00, 543.96it/s]\n"
     ]
    },
    {
     "name": "stdout",
     "output_type": "stream",
     "text": [
      "Epoch 36/50, Loss: 1.3764172481540033\n"
     ]
    },
    {
     "name": "stderr",
     "output_type": "stream",
     "text": [
      "Epoch 37/50: 100%|██████████| 1807/1807 [00:03<00:00, 536.86it/s]\n"
     ]
    },
    {
     "name": "stdout",
     "output_type": "stream",
     "text": [
      "Epoch 37/50, Loss: 1.3781267145147356\n"
     ]
    },
    {
     "name": "stderr",
     "output_type": "stream",
     "text": [
      "Epoch 38/50: 100%|██████████| 1807/1807 [00:03<00:00, 542.98it/s]\n"
     ]
    },
    {
     "name": "stdout",
     "output_type": "stream",
     "text": [
      "Epoch 38/50, Loss: 1.3804569812708123\n"
     ]
    },
    {
     "name": "stderr",
     "output_type": "stream",
     "text": [
      "Epoch 39/50: 100%|██████████| 1807/1807 [00:03<00:00, 538.10it/s]\n"
     ]
    },
    {
     "name": "stdout",
     "output_type": "stream",
     "text": [
      "Epoch 39/50, Loss: 1.3752115325278222\n"
     ]
    },
    {
     "name": "stderr",
     "output_type": "stream",
     "text": [
      "Epoch 40/50: 100%|██████████| 1807/1807 [00:03<00:00, 542.75it/s]\n"
     ]
    },
    {
     "name": "stdout",
     "output_type": "stream",
     "text": [
      "Epoch 40/50, Loss: 1.3787183731893369\n"
     ]
    },
    {
     "name": "stderr",
     "output_type": "stream",
     "text": [
      "Epoch 41/50: 100%|██████████| 1807/1807 [00:03<00:00, 539.62it/s]\n"
     ]
    },
    {
     "name": "stdout",
     "output_type": "stream",
     "text": [
      "Epoch 41/50, Loss: 1.3751953590087849\n"
     ]
    },
    {
     "name": "stderr",
     "output_type": "stream",
     "text": [
      "Epoch 42/50: 100%|██████████| 1807/1807 [00:03<00:00, 537.46it/s]\n"
     ]
    },
    {
     "name": "stdout",
     "output_type": "stream",
     "text": [
      "Epoch 42/50, Loss: 1.376407912403246\n"
     ]
    },
    {
     "name": "stderr",
     "output_type": "stream",
     "text": [
      "Epoch 43/50: 100%|██████████| 1807/1807 [00:03<00:00, 532.69it/s]\n"
     ]
    },
    {
     "name": "stdout",
     "output_type": "stream",
     "text": [
      "Epoch 43/50, Loss: 1.378366047823812\n"
     ]
    },
    {
     "name": "stderr",
     "output_type": "stream",
     "text": [
      "Epoch 44/50: 100%|██████████| 1807/1807 [00:03<00:00, 535.23it/s]\n"
     ]
    },
    {
     "name": "stdout",
     "output_type": "stream",
     "text": [
      "Epoch 44/50, Loss: 1.3758201245981725\n"
     ]
    },
    {
     "name": "stderr",
     "output_type": "stream",
     "text": [
      "Epoch 45/50: 100%|██████████| 1807/1807 [00:03<00:00, 539.50it/s]\n"
     ]
    },
    {
     "name": "stdout",
     "output_type": "stream",
     "text": [
      "Epoch 45/50, Loss: 1.3749759381395639\n"
     ]
    },
    {
     "name": "stderr",
     "output_type": "stream",
     "text": [
      "Epoch 46/50: 100%|██████████| 1807/1807 [00:03<00:00, 538.01it/s]\n"
     ]
    },
    {
     "name": "stdout",
     "output_type": "stream",
     "text": [
      "Epoch 46/50, Loss: 1.3761256430896283\n"
     ]
    },
    {
     "name": "stderr",
     "output_type": "stream",
     "text": [
      "Epoch 47/50: 100%|██████████| 1807/1807 [00:03<00:00, 533.70it/s]\n"
     ]
    },
    {
     "name": "stdout",
     "output_type": "stream",
     "text": [
      "Epoch 47/50, Loss: 1.376648669557054\n"
     ]
    },
    {
     "name": "stderr",
     "output_type": "stream",
     "text": [
      "Epoch 48/50: 100%|██████████| 1807/1807 [00:03<00:00, 538.70it/s]\n"
     ]
    },
    {
     "name": "stdout",
     "output_type": "stream",
     "text": [
      "Epoch 48/50, Loss: 1.377453518072236\n"
     ]
    },
    {
     "name": "stderr",
     "output_type": "stream",
     "text": [
      "Epoch 49/50: 100%|██████████| 1807/1807 [00:03<00:00, 528.85it/s]\n"
     ]
    },
    {
     "name": "stdout",
     "output_type": "stream",
     "text": [
      "Epoch 49/50, Loss: 1.3786526456359744\n"
     ]
    },
    {
     "name": "stderr",
     "output_type": "stream",
     "text": [
      "Epoch 50/50: 100%|██████████| 1807/1807 [00:03<00:00, 549.18it/s]\n"
     ]
    },
    {
     "name": "stdout",
     "output_type": "stream",
     "text": [
      "Epoch 50/50, Loss: 1.3801155630272224\n"
     ]
    },
    {
     "data": {
      "image/png": "[encoded data removed]",
      "text/plain": [
       "<Figure size 1000x800 with 1 Axes>"
      ]
     },
     "metadata": {},
     "output_type": "display_data"
    },
    {
     "name": "stdout",
     "output_type": "stream",
     "text": [
      "First 5 Node Embeddings:\n",
      "[[-1.17535025e-01 -4.17890579e-01 -6.73701391e-02 -5.15315011e-02\n",
      "  -1.73685141e-02 -4.97167856e-02 -4.03606631e-02 -8.10505301e-02\n",
      "  -1.12670295e-01 -1.69396736e-02  1.35743663e-01  6.08847290e-03\n",
      "  -6.60297573e-02 -5.52750193e-04  9.33401212e-02  1.63231213e-02\n",
      "  -1.58582613e-01 -1.80966571e-01  2.01164007e-01 -6.02326430e-02\n",
      "  -4.44611534e-04  5.18744159e-03  1.98598597e-02  3.79538834e-02\n",
      "   1.14783740e+00 -1.94267645e-01 -8.02791268e-02 -5.13604134e-02\n",
      "   4.48367819e-02 -3.92063335e-03 -1.13026053e-01 -1.32672399e-01\n",
      "  -5.57721928e-02  4.35805023e-02  4.38855253e-02  1.75349623e-01\n",
      "   4.73011360e-02  1.13784112e-01 -5.53729311e-02  3.78181934e-02\n",
      "   7.70086646e-02 -8.98333546e-03  5.41527271e-02 -1.62526876e-01\n",
      "   1.04906760e-01  3.05522103e-02 -2.61384621e-03  2.99204923e-02\n",
      "   5.23607805e-02  6.12756796e-02  5.06441435e-03  8.89702365e-02\n",
      "  -2.20757108e-02 -4.15435061e-03 -1.83186233e-02 -2.47755665e-02\n",
      "  -1.91960689e-02 -1.78143993e-01 -4.48840437e-03  4.07663770e-02\n",
      "  -3.97922210e-02  6.00368250e-04 -3.94600555e-02 -3.08107957e-02\n",
      "  -5.88548668e-02 -2.72271577e-02  5.78472652e-02 -2.60524638e-02\n",
      "   9.31603611e-02  4.33715899e-03 -9.84214842e-02  1.18945867e-01\n",
      "   1.43363133e-01  7.17808828e-02 -1.63759902e-01  6.28364012e-02\n",
      "   1.06269410e-02  2.55698711e-03  1.18375681e-02 -3.23462710e-02\n",
      "  -1.13880105e-01 -1.82325363e-01 -2.85671633e-02  2.52544675e-02\n",
      "   5.60853928e-02 -2.24785134e-01 -2.66912803e-02 -4.68566902e-02\n",
      "   4.75220680e-02 -1.48506284e-01 -2.77621560e-02 -1.28657982e-01\n",
      "  -5.24532609e-02  9.16266143e-02 -8.04145634e-02  1.07499167e-01\n",
      "  -5.48310876e-02  3.57828215e-02  5.80736063e-02  1.74849212e-01\n",
      "   4.20253351e-02 -8.13967139e-02 -5.36228456e-02  6.75653517e-02\n",
      "   1.29069626e-01  3.39466557e-02 -4.94015142e-02  4.55503501e-02\n",
      "  -1.14406303e-01 -8.80816430e-02 -1.70108639e-02  6.09380454e-02\n",
      "  -2.38915123e-02 -2.06728093e-02  5.94813079e-02  9.51894224e-02\n",
      "   5.84347770e-02 -8.25515762e-02 -8.04571807e-02  1.83956206e-01\n",
      "  -1.02073073e-01  1.06082290e-01  2.69035995e-03  8.77704248e-02\n",
      "  -5.09954467e-02 -1.56951770e-01 -1.39501676e-01 -3.60739715e-02]\n",
      " [ 2.43748352e-03  1.08298399e-01 -9.14937705e-02  3.12550878e-03\n",
      "   1.36096627e-02  8.82094800e-02  1.13961667e-01 -6.33997470e-02\n",
      "   7.70536140e-02  1.00324571e-01 -2.17300162e-01 -1.08657703e-01\n",
      "  -1.14215627e-01 -4.81395125e-02 -6.25834912e-02  5.96223585e-02\n",
      "   2.16113448e-01 -2.25686599e-02 -9.58191454e-02 -2.39630312e-01\n",
      "   1.18724406e-01  1.65857643e-01  1.89857468e-01  4.70822044e-02\n",
      "   1.27201557e+00 -4.99374494e-02 -1.32230744e-01 -6.52905926e-02\n",
      "   2.44549662e-01 -3.52663212e-02  1.14372678e-01  7.04335570e-02\n",
      "   1.16815448e-01  1.42463058e-01  1.08381473e-02 -1.77234069e-01\n",
      "  -6.98171631e-02  3.56101356e-02  3.70535940e-01  7.91964158e-02\n",
      "   3.13137859e-01 -5.25473915e-02 -2.74011821e-01 -9.50769708e-02\n",
      "   1.19740926e-02 -6.64434433e-01 -3.06124210e-01 -5.91670386e-02\n",
      "  -1.34291917e-01 -8.88981223e-02  1.16062209e-01 -2.46826127e-01\n",
      "  -2.46776000e-01 -1.32696584e-01  1.17117949e-01 -1.37751594e-01\n",
      "  -1.62981659e-01 -8.90330672e-02  1.18874617e-01  6.23348318e-02\n",
      "  -4.89138216e-02  8.60526860e-02  1.22078955e-01  1.06030218e-01\n",
      "   1.22391898e-02  4.18691598e-02  2.85282284e-02  1.42336100e-01\n",
      "  -4.88850363e-02 -1.58068445e-02  8.21667463e-02 -5.36382496e-02\n",
      "  -2.71050841e-01  1.67313352e-01  1.65038377e-01  2.87925273e-01\n",
      "   7.82124698e-02  1.30271301e-01 -1.23967491e-02  2.44186953e-01\n",
      "   9.26628262e-02 -3.25124085e-01 -1.49836093e-01 -4.37339470e-02\n",
      "  -5.97563498e-02  6.01479709e-02 -9.97550879e-03  6.18348271e-02\n",
      "   3.57783437e-02 -1.01302326e-01 -3.16944778e-01  2.16817521e-02\n",
      "   1.91817686e-01 -1.82591408e-01  1.06025763e-01 -2.43343301e-02\n",
      "   5.92122599e-02  3.73623474e-03  2.02054344e-02  3.75686288e-02\n",
      "   1.63718462e-01 -8.95895064e-04  6.54051751e-02  8.25057477e-02\n",
      "  -4.17017639e-02 -1.08426481e-01  4.92467545e-02  1.19964495e-01\n",
      "   4.13253019e-03  3.48468646e-02 -5.18004522e-02 -8.35995898e-02\n",
      "   2.27714121e-01  1.60704613e-01 -7.67651349e-02 -3.72673124e-01\n",
      "   6.49955496e-02  3.03882994e-02  1.43874094e-01 -5.85371777e-02\n",
      "  -3.66173033e-03  1.36784852e-01 -2.03237645e-02 -5.22852503e-02\n",
      "   1.34991705e-01  2.02411354e-01  1.13124855e-01 -2.31875941e-01]\n",
      " [ 1.50301650e-01  6.85810983e-01  3.57460827e-02  3.39460969e-02\n",
      "  -1.09367110e-02 -1.55313015e-01 -2.28909962e-02  1.99016258e-02\n",
      "   1.25952691e-01  9.58040729e-02 -9.62115228e-02 -7.14878291e-02\n",
      "   3.83623987e-02 -2.26614568e-02  2.25273594e-01 -1.14766732e-01\n",
      "   8.67163837e-02  1.71886221e-01 -2.26582795e-01  6.40359372e-02\n",
      "   1.91174164e-01 -7.00130686e-02 -2.56956499e-02  1.03964590e-01\n",
      "   4.12184656e-01  1.06371701e-01  1.12621509e-01  9.92246494e-02\n",
      "  -6.57711625e-02 -2.25862935e-02  8.95596668e-02  1.92326903e-01\n",
      "   1.82318255e-01  1.34454206e-01 -5.93640320e-02 -3.06636453e-01\n",
      "  -9.64930132e-02 -2.15019226e-01 -4.47468013e-01 -1.54379457e-01\n",
      "  -1.41237661e-01 -5.19644003e-04 -1.87696427e-01  2.44654715e-01\n",
      "   1.58698317e-02 -4.39702988e-01  3.28525975e-02 -1.21723123e-01\n",
      "  -4.33776863e-02 -2.94321626e-02  1.06996112e-01 -8.56926069e-02\n",
      "   6.19496927e-02 -6.56036735e-02 -2.03174740e-01  1.79634586e-01\n",
      "  -2.61067376e-02  8.07962865e-02 -1.63394045e-02  2.01229021e-01\n",
      "   5.48662208e-02 -8.63281861e-02 -1.00205541e-01  3.97974029e-02\n",
      "   3.55116539e-02  1.20787561e-01  1.23318266e-02  1.19724229e-01\n",
      "  -2.03669086e-01 -4.36882675e-02 -1.28416911e-01 -1.30821392e-01\n",
      "  -1.96079835e-01 -8.89720321e-02  1.55161083e-01 -1.64569318e-01\n",
      "   4.91337627e-02 -2.46535204e-02 -9.37198773e-02  2.20448419e-01\n",
      "   1.70825562e-03 -1.97237343e-01 -2.32156768e-01 -2.25537270e-02\n",
      "  -3.58922854e-02  1.54784456e-01  7.07235932e-02 -1.37138039e-01\n",
      "  -1.25333101e-01  8.27388279e-03 -7.46984407e-02  2.16194510e-01\n",
      "   1.84152275e-01  4.13570218e-02 -4.52484339e-02 -1.29222378e-01\n",
      "  -3.03681195e-02 -8.22500885e-02  3.21603008e-02 -6.32937029e-02\n",
      "  -5.41770905e-02 -4.97127213e-02  5.44297472e-02 -1.61243081e-01\n",
      "  -3.54649752e-01 -4.97039370e-02  2.03531504e-01 -7.34139383e-02\n",
      "   9.31279287e-02  3.93605940e-02 -5.08039407e-02 -1.85815170e-01\n",
      "  -6.41670004e-02  2.45906696e-01 -7.13416860e-02 -1.48822144e-01\n",
      "  -5.42788990e-02  5.81169799e-02 -9.24062915e-03 -9.38644260e-02\n",
      "  -3.16174664e-02  1.06229872e-01  5.49411736e-02  4.29444499e-02\n",
      "  -3.17961127e-01  1.55397803e-01 -1.34333476e-01 -1.66489691e-01]\n",
      " [-2.80230075e-01  3.79010104e-02 -3.84082764e-01 -1.14811271e-01\n",
      "  -3.33485305e-01  1.67509332e-01 -2.54585862e-01 -1.59842223e-01\n",
      "  -2.01489672e-01  5.25312014e-02 -1.65268734e-01  2.74286598e-01\n",
      "  -3.36960584e-01  5.18615320e-02  2.50672251e-01 -1.07082035e-02\n",
      "   3.20134103e-01  9.17840078e-02 -4.07416187e-03 -2.05094054e-01\n",
      "   1.49416521e-01 -2.89177984e-01 -1.24382712e-02 -3.58560562e-01\n",
      "   9.66420770e-01  1.08232535e-01 -7.27991760e-02  1.45760030e-01\n",
      "   1.41456038e-01  3.39464992e-01 -7.82754123e-02  9.29414481e-02\n",
      "  -2.92085409e-01 -7.40720630e-02 -3.40752542e-01 -5.05426824e-02\n",
      "   5.21885231e-02  4.07496363e-01 -2.51172066e-01  3.11784685e-01\n",
      "  -2.59365171e-01  8.71653408e-02 -1.04427189e-01  1.61422893e-01\n",
      "   6.61255941e-02 -2.27833390e-01 -1.97318107e-01  1.46396294e-01\n",
      "  -1.00778557e-01  5.90744754e-03 -4.81392778e-02  2.50720114e-01\n",
      "   1.98749393e-01  3.36615652e-01  3.10990393e-01  2.45313924e-02\n",
      "   3.55568342e-02 -1.19400276e-02 -1.08324945e-01  2.47611746e-01\n",
      "  -2.72921264e-01 -2.21471936e-02  1.65112913e-01  7.42767826e-02\n",
      "  -1.82744309e-01  2.72126824e-01 -1.65429655e-02  4.18810070e-01\n",
      "  -1.25347942e-01  2.42917109e-02  2.32324377e-02 -1.35900706e-01\n",
      "  -6.62424639e-02  2.80086696e-01  2.71156192e-01 -1.22631550e-01\n",
      "  -3.05187315e-01 -1.72962487e-01  7.10970089e-02 -3.16143513e-01\n",
      "   3.32618386e-01  1.51200354e-01  3.00598830e-01  1.47730738e-01\n",
      "  -2.20739171e-01  1.16773829e-01  2.23950535e-01 -1.21442325e-01\n",
      "  -2.38971308e-01 -2.55662948e-01 -1.38793737e-01 -6.08175211e-02\n",
      "   3.51103246e-01  1.61264285e-01 -2.77936198e-02  1.32937014e-01\n",
      "   4.69510138e-01  1.32315680e-02 -7.62148499e-02 -6.74539283e-02\n",
      "  -3.27770233e-01 -1.14686117e-01 -2.84085482e-01 -1.22732356e-01\n",
      "   1.05224200e-01  1.02000058e-01  4.60328519e-01 -7.74720982e-02\n",
      "   3.18057805e-01 -1.13667130e-01  5.50109334e-03  8.13249797e-02\n",
      "   1.99386075e-01  3.00947186e-02  4.67757806e-02 -3.07135005e-03\n",
      "  -2.56074727e-01 -2.81666778e-02 -7.29494318e-02 -3.99421006e-01\n",
      "   1.03223599e-01 -2.49797441e-02 -1.83874011e-01 -1.39326185e-01\n",
      "   1.41360804e-01 -1.68437995e-02  1.17590204e-02 -4.19373304e-01]\n",
      " [ 1.97345510e-01 -9.47282612e-01 -3.59642804e-01  1.48359463e-01\n",
      "   2.44319588e-02 -9.10168886e-02  1.06369369e-01 -5.31157739e-02\n",
      "  -6.12811558e-02  7.68199116e-02 -2.21539333e-01 -6.04208419e-03\n",
      "   7.23216906e-02  2.53004711e-02  2.74324894e-01  1.55488402e-01\n",
      "   3.35947871e-01 -2.09681354e-02 -1.86630622e-01 -3.30180168e-01\n",
      "   8.61114934e-02 -1.42559409e-01  2.35461555e-02 -3.13693523e-01\n",
      "   1.50540304e+00  8.81954879e-02  3.72218564e-02  2.22526997e-01\n",
      "   1.96843952e-01  2.60629624e-01 -1.42104954e-01  2.73924887e-01\n",
      "  -5.60056716e-02 -1.27700940e-01 -2.28074074e-01 -9.31139737e-02\n",
      "  -2.47011796e-01  2.65546411e-01 -4.55394313e-02  1.79809362e-01\n",
      "   2.45870382e-01  5.46077527e-02 -2.13877261e-02  1.48626566e-01\n",
      "  -6.39878074e-03  1.28113854e+00 -1.01596951e-01 -1.48615008e-03\n",
      "  -6.11094348e-02  1.52511001e-01  1.35983050e-01  7.12295854e-03\n",
      "   2.22766623e-01  6.62028906e-04  1.01253159e-01  1.05062753e-01\n",
      "   1.43878862e-01  1.40913889e-01  9.75185558e-02  3.20700705e-01\n",
      "  -1.64187923e-01  4.19639843e-03 -3.04805301e-02 -8.87923762e-02\n",
      "  -8.85667726e-02  3.75436544e-01 -1.18175581e-01  2.86574215e-01\n",
      "  -1.25615016e-01  1.67499945e-01  1.02960587e-01 -2.13143393e-01\n",
      "  -3.41900766e-01  2.56649911e-01  7.56961480e-02 -9.69910100e-02\n",
      "  -6.83389530e-02 -8.58297050e-02  2.76008267e-02 -3.70889120e-02\n",
      "   1.40372247e-01 -5.82462959e-02 -8.51029754e-02  2.78282445e-04\n",
      "  -2.91791499e-01  2.76836902e-01  8.15113187e-02  1.06444634e-01\n",
      "   2.26920154e-02 -2.39319384e-01 -3.77863646e-01  1.44517049e-01\n",
      "   1.96541205e-01 -2.48164721e-02 -1.21926982e-03  2.61439174e-01\n",
      "   1.47201821e-01 -5.13377264e-02  1.58465818e-01  1.42784789e-01\n",
      "  -2.59045273e-01 -1.01501331e-01  1.11534104e-01 -3.03069741e-01\n",
      "   2.71846671e-02  1.88565776e-01  2.96651870e-01 -5.36012501e-02\n",
      "   1.91841483e-01 -1.44119874e-01 -2.52376497e-01 -1.07692197e-01\n",
      "   1.43288327e-02  1.79638699e-01 -2.14135163e-02 -1.75987065e-01\n",
      "  -2.04013661e-01 -1.82124898e-02  2.65110254e-01 -7.66540319e-02\n",
      "  -3.77088673e-02 -5.86217269e-02  3.53943706e-02 -1.52102798e-01\n",
      "  -1.58147328e-02  9.93484110e-02 -9.14053246e-02 -2.19584718e-01]]\n"
     ]
    }
   ],
   "source": [
    "import torch\n",
    "import networkx as nx\n",
    "import matplotlib.pyplot as plt\n",
    "import random\n",
    "from collections import defaultdict\n",
    "from tqdm import tqdm\n",
    "\n",
    "\n",
    "# Load the Zachary Karate Club graph\n",
    "def load_karate_graph():\n",
    "    \"\"\"\n",
    "    Loads the Zachary Karate Club graph from NetworkX.\n",
    "\n",
    "    Returns:\n",
    "        nx.Graph: The Karate Club graph.\n",
    "    \"\"\"\n",
    "    G = nx.karate_club_graph()\n",
    "    return G\n",
    "\n",
    "\n",
    "# Convert NetworkX graph to adjacency list\n",
    "def graph_to_adj_list(graph):\n",
    "    \"\"\"\n",
    "    Converts a NetworkX graph to an adjacency list representation.\n",
    "\n",
    "    Args:\n",
    "        graph (nx.Graph): The input graph.\n",
    "\n",
    "    Returns:\n",
    "        dict: An adjacency list where keys are nodes and values are lists of neighbors.\n",
    "    \"\"\"\n",
    "    adj_list = defaultdict(list)\n",
    "    for node in graph.nodes():\n",
    "        adj_list[node] = list(graph.neighbors(node))\n",
    "    return adj_list\n",
    "\n",
    "\n",
    "# Generate random walk\n",
    "def generate_random_walk(graph, start_node, walk_length, p, q):\n",
    "    \"\"\"\n",
    "    Generates a random walk starting from a given node.  This implementation\n",
    "    correctly handles the edge weights (p and q) for the walk.\n",
    "\n",
    "    Args:\n",
    "        graph (nx.Graph): The input graph.\n",
    "        start_node (int): The starting node for the random walk.\n",
    "        walk_length (int): The length of the random walk.\n",
    "        p (float): The return parameter.\n",
    "        q (float): The in-out parameter.\n",
    "\n",
    "    Returns:\n",
    "        list: A list of nodes representing the random walk.\n",
    "    \"\"\"\n",
    "    walk = [start_node]\n",
    "    for _ in range(walk_length - 1):\n",
    "        current_node = walk[-1]\n",
    "        neighbors = list(graph.neighbors(current_node))\n",
    "        if not neighbors:\n",
    "            break  # Handle disconnected nodes\n",
    "        if len(walk) == 1:\n",
    "            # Start node case: sample directly from neighbors\n",
    "            next_node = random.choice(neighbors)\n",
    "            walk.append(next_node)\n",
    "        else:\n",
    "            # Subsequent step case: consider p and q\n",
    "            previous_node = walk[-2]\n",
    "            probabilities = []\n",
    "            for neighbor in neighbors:\n",
    "                if neighbor == previous_node:\n",
    "                    probabilities.append(1 / p)  # Return probability\n",
    "                elif graph.has_edge(previous_node, neighbor):\n",
    "                    probabilities.append(1)  # Neighboring node\n",
    "                else:\n",
    "                    probabilities.append(1 / q)  # Non-neighboring node\n",
    "            # Normalize probabilities to sum to 1\n",
    "            probabilities = [prob / sum(probabilities) for prob in probabilities]\n",
    "            # Use the probabilities to select the next node.\n",
    "            next_node = random.choices(neighbors, probabilities)[0]\n",
    "            walk.append(next_node)\n",
    "    return walk\n",
    "\n",
    "\n",
    "# Generate multiple random walks\n",
    "def generate_walks(graph, num_walks, walk_length, p, q):\n",
    "    \"\"\"\n",
    "    Generates multiple random walks for each node in the graph.\n",
    "\n",
    "    Args:\n",
    "        graph (nx.Graph): The input graph.\n",
    "        num_walks (int): The number of random walks per node.\n",
    "        walk_length (int): The length of each random walk.\n",
    "        p (float): The return parameter.\n",
    "        q (float): The in-out parameter.\n",
    "\n",
    "    Returns:\n",
    "        list: A list of lists, where each inner list is a random walk.\n",
    "    \"\"\"\n",
    "    walks = []\n",
    "    nodes = list(graph.nodes())\n",
    "    for _ in range(num_walks):\n",
    "        random.shuffle(nodes)  # Shuffle for each iteration\n",
    "        for node in nodes:\n",
    "            walk = generate_random_walk(graph, node, walk_length, p, q)\n",
    "            walks.append(walk)\n",
    "    return walks\n",
    "\n",
    "\n",
    "# Skip-gram model with negative sampling\n",
    "class SkipGramModel(torch.nn.Module):\n",
    "    \"\"\"\n",
    "    Skip-gram model for learning node embeddings.  This implementation\n",
    "    uses PyTorch and includes proper initialization.\n",
    "    \"\"\"\n",
    "\n",
    "    def __init__(self, num_nodes, embedding_dim):\n",
    "        \"\"\"\n",
    "        Initializes the Skip-gram model.\n",
    "\n",
    "        Args:\n",
    "            num_nodes (int): The number of nodes in the graph.\n",
    "            embedding_dim (int): The dimensionality of the node embeddings.\n",
    "        \"\"\"\n",
    "        super(SkipGramModel, self).__init__()\n",
    "        self.embedding_u = torch.nn.Embedding(\n",
    "            num_nodes, embedding_dim\n",
    "        )  # Target embeddings\n",
    "        self.embedding_v = torch.nn.Embedding(\n",
    "            num_nodes, embedding_dim\n",
    "        )  # Context embeddings\n",
    "\n",
    "        # Initialize embeddings using a small uniform distribution\n",
    "        init_range = 0.5 / embedding_dim\n",
    "        self.embedding_u.weight.data.uniform_(-init_range, init_range)\n",
    "        self.embedding_v.weight.data.uniform_(\n",
    "            -0, 0\n",
    "        )  # init_range, init_range) # Initializing to 0 can sometimes help\n",
    "\n",
    "    def forward(self, center_nodes, context_nodes, negative_samples):\n",
    "        \"\"\"\n",
    "        Computes the forward pass of the Skip-gram model.\n",
    "\n",
    "        Args:\n",
    "            center_nodes (torch.Tensor): Tensor of center node indices.\n",
    "            context_nodes (torch.Tensor): Tensor of context node indices.\n",
    "            negative_samples (torch.Tensor): Tensor of negative sample indices.\n",
    "\n",
    "        Returns:\n",
    "            torch.Tensor: The loss value.\n",
    "        \"\"\"\n",
    "        # Get embeddings for center nodes\n",
    "        u_embeddings = self.embedding_u(center_nodes)  # (batch_size, embedding_dim)\n",
    "\n",
    "        # Get embeddings for context nodes\n",
    "        v_embeddings = self.embedding_v(context_nodes)  # (batch_size, embedding_dim)\n",
    "\n",
    "        # Compute the positive log-likelihood\n",
    "        positive_scores = torch.sum(u_embeddings * v_embeddings, dim=1)  # (batch_size,)\n",
    "        positive_loss = -torch.mean(torch.log(torch.sigmoid(positive_scores)))\n",
    "\n",
    "        # Get embeddings for negative samples\n",
    "        negative_embeddings = self.embedding_v(\n",
    "            negative_samples\n",
    "        )  # (batch_size, num_negative_samples, embedding_dim)\n",
    "\n",
    "        # Compute the negative log-likelihood\n",
    "        negative_scores = torch.bmm(\n",
    "            negative_embeddings, u_embeddings.unsqueeze(2)\n",
    "        ).squeeze(2)  # (batch_size, num_negative_samples)\n",
    "        negative_loss = -torch.mean(torch.log(torch.sigmoid(-negative_scores)))\n",
    "\n",
    "        # Combine positive and negative losses\n",
    "        loss = positive_loss + negative_loss\n",
    "        return loss\n",
    "\n",
    "\n",
    "def generate_negative_samples(walks, num_nodes, window_size, num_negative_samples):\n",
    "    \"\"\"\n",
    "    Generates negative samples for each center node and context node pair.\n",
    "    This version pre-computes the unigram distribution and samples directly\n",
    "    according to that distribution.\n",
    "\n",
    "    Args:\n",
    "        walks (list): A list of random walks.\n",
    "        num_nodes (int): The total number of nodes in the graph.\n",
    "        window_size (int): The context window size.\n",
    "        num_negative_samples (int): The number of negative samples per (center, context) pair.\n",
    "\n",
    "    Returns:\n",
    "        list: A list of tuples, where each tuple contains:\n",
    "            (center_node, context_node, list of negative samples)\n",
    "    \"\"\"\n",
    "    negative_samples = []\n",
    "    node_counts = [0] * num_nodes  # Initialize node counts\n",
    "    for walk in walks:\n",
    "        for node in walk:\n",
    "            node_counts[node] += 1\n",
    "\n",
    "    # Compute the unigram distribution raised to the power of 0.75\n",
    "    total_count = sum(node_counts)\n",
    "    unigram_dist = [(count / total_count) ** 0.75 for count in node_counts]\n",
    "    # Normalize the distribution\n",
    "    unigram_dist = [p / sum(unigram_dist) for p in unigram_dist]\n",
    "\n",
    "    for walk in walks:\n",
    "        for i, center_node in enumerate(walk):\n",
    "            for j in range(\n",
    "                max(0, i - window_size), min(len(walk), i + window_size + 1)\n",
    "            ):\n",
    "                if i != j:\n",
    "                    context_node = walk[j]\n",
    "                    # Generate negative samples, ensuring they are different from the context node\n",
    "                    neg_samples = random.choices(\n",
    "                        range(num_nodes), weights=unigram_dist, k=num_negative_samples\n",
    "                    )\n",
    "                    negative_samples.append((center_node, context_node, neg_samples))\n",
    "    return negative_samples\n",
    "\n",
    "\n",
    "def train_node2vec(\n",
    "    graph,\n",
    "    walks,\n",
    "    embedding_dim,\n",
    "    window_size,\n",
    "    num_negative_samples,\n",
    "    batch_size,\n",
    "    epochs,\n",
    "    learning_rate,\n",
    "    p,\n",
    "    q,\n",
    "    num_workers=0,\n",
    "):\n",
    "    \"\"\"\n",
    "    Trains the Node2vec model. This function incorporates the negative sampling\n",
    "    and training loop, and uses the graph, walks, and p, q parameters.\n",
    "\n",
    "    Args:\n",
    "        graph (nx.Graph): The input graph.\n",
    "        walks (list): A list of random walks.\n",
    "        embedding_dim (int): The dimensionality of the node embeddings.\n",
    "        window_size (int): The context window size.\n",
    "        num_negative_samples (int): The number of negative samples per (center, context) pair.\n",
    "        batch_size (int): The batch size for training.\n",
    "        epochs (int): The number of training epochs.\n",
    "        learning_rate (float): The learning rate.\n",
    "        p (float): The return parameter.\n",
    "        q (float): The in-out parameter.\n",
    "        num_workers (int): Number of workers for data loading (not used in this basic implementation).\n",
    "\n",
    "    Returns:\n",
    "        torch.nn.Module: The trained Skip-gram model.\n",
    "    \"\"\"\n",
    "    # Determine the device to use\n",
    "    device = (\n",
    "        torch.device(\"mps\")\n",
    "        if torch.backends.mps.is_available()\n",
    "        else torch.device(\"cpu\")\n",
    "    )\n",
    "    print(f\"Using device: {device}\")\n",
    "\n",
    "    num_nodes = graph.number_of_nodes()\n",
    "    model = SkipGramModel(num_nodes, embedding_dim).to(device)  # Move model to device\n",
    "    optimizer = torch.optim.Adam(model.parameters(), lr=learning_rate)\n",
    "    # Use Binary Cross Entropy Loss (though we calculate it manually for more control)\n",
    "    # criterion = torch.nn.BCEWithLogitsLoss() # Not used, but kept here for reference\n",
    "\n",
    "    negative_samples = generate_negative_samples(\n",
    "        walks, num_nodes, window_size, num_negative_samples\n",
    "    )\n",
    "\n",
    "    # Prepare data for PyTorch (create tensors) outside the loop\n",
    "    center_nodes_all = []\n",
    "    context_nodes_all = []\n",
    "    negative_samples_all = []\n",
    "\n",
    "    for center_node, context_node, neg_samples in negative_samples:\n",
    "        center_nodes_all.append(center_node)\n",
    "        context_nodes_all.append(context_node)\n",
    "        negative_samples_all.append(neg_samples)\n",
    "\n",
    "    center_nodes_tensor = torch.tensor(center_nodes_all, dtype=torch.long).to(\n",
    "        device\n",
    "    )  # Move tensors to device\n",
    "    context_nodes_tensor = torch.tensor(context_nodes_all, dtype=torch.long).to(device)\n",
    "    negative_samples_tensor = torch.tensor(negative_samples_all, dtype=torch.long).to(\n",
    "        device\n",
    "    )\n",
    "\n",
    "    num_samples = len(negative_samples)\n",
    "    for epoch in range(epochs):\n",
    "        # Shuffle the training data at the beginning of each epoch\n",
    "        permutation = torch.randperm(num_samples).to(\n",
    "            device\n",
    "        )  # Move permutation to device\n",
    "        center_nodes_tensor = center_nodes_tensor[permutation]\n",
    "        context_nodes_tensor = context_nodes_tensor[permutation]\n",
    "        negative_samples_tensor = negative_samples_tensor[permutation]\n",
    "        total_loss = 0.0\n",
    "        for i in tqdm(\n",
    "            range(0, num_samples, batch_size), desc=f\"Epoch {epoch + 1}/{epochs}\"\n",
    "        ):\n",
    "            optimizer.zero_grad()\n",
    "            # Get batch\n",
    "            indices = torch.arange(i, min(i + batch_size, num_samples)).to(\n",
    "                device\n",
    "            )  # Move indices to device\n",
    "            batch_center_nodes = center_nodes_tensor[indices]\n",
    "            batch_context_nodes = context_nodes_tensor[indices]\n",
    "            batch_negative_samples = negative_samples_tensor[indices]\n",
    "\n",
    "            # Forward pass\n",
    "            loss = model(\n",
    "                batch_center_nodes, batch_context_nodes, batch_negative_samples\n",
    "            )\n",
    "            total_loss += loss.item()\n",
    "            # Backward pass\n",
    "            loss.backward()\n",
    "            optimizer.step()\n",
    "        print(\n",
    "            f\"Epoch {epoch + 1}/{epochs}, Loss: {total_loss / (num_samples // batch_size)}\"\n",
    "        )\n",
    "    return model\n",
    "\n",
    "\n",
    "def get_node_embeddings(model):\n",
    "    \"\"\"\n",
    "    Gets the node embeddings from the trained model.\n",
    "\n",
    "    Args:\n",
    "        model (torch.nn.Module): The trained Skip-gram model.\n",
    "\n",
    "    Returns:\n",
    "        torch.Tensor: A tensor containing the node embeddings.\n",
    "    \"\"\"\n",
    "    return model.embedding_u.weight.data.cpu().numpy()\n",
    "\n",
    "\n",
    "def visualize_embeddings(embeddings, graph, title=\"Node2vec Embeddings\"):\n",
    "    \"\"\"\n",
    "    Visualizes the node embeddings using a 2D scatter plot.  This version\n",
    "    uses the actual node labels from the Karate Club graph.\n",
    "\n",
    "    Args:\n",
    "        embeddings (numpy.ndarray): The node embeddings.\n",
    "        graph (nx.Graph): The input graph (for getting node labels).\n",
    "        title (str): The title of the plot.\n",
    "    \"\"\"\n",
    "    # Use a simple PCA for dimensionality reduction to 2D\n",
    "    from sklearn.decomposition import PCA\n",
    "\n",
    "    pca = PCA(n_components=2)\n",
    "    reduced_embeddings = pca.fit_transform(embeddings)\n",
    "\n",
    "    # Get the club labels for coloring\n",
    "    club_labels = [graph.nodes[node][\"club\"] for node in graph.nodes()]\n",
    "    colors = [\"red\" if label == \"Mr. Hi\" else \"blue\" for label in club_labels]\n",
    "\n",
    "    plt.figure(figsize=(10, 8))\n",
    "    plt.scatter(reduced_embeddings[:, 0], reduced_embeddings[:, 1], c=colors)\n",
    "\n",
    "    # Add node labels to the plot\n",
    "    for i, node in enumerate(graph.nodes()):\n",
    "        plt.annotate(\n",
    "            str(node),\n",
    "            xy=(reduced_embeddings[i, 0], reduced_embeddings[i, 1]),\n",
    "            xytext=(5, 2),\n",
    "            textcoords=\"offset points\",\n",
    "            fontsize=10,\n",
    "        )\n",
    "\n",
    "    plt.title(title)\n",
    "    plt.xlabel(\"Dimension 1\")\n",
    "    plt.ylabel(\"Dimension 2\")\n",
    "    plt.grid(True)\n",
    "    plt.show()\n",
    "\n",
    "\n",
    "if __name__ == \"__main__\":\n",
    "    # Hyperparameters\n",
    "    embedding_dim = 128\n",
    "    walk_length = 20\n",
    "    num_walks = 10\n",
    "    window_size = 5\n",
    "    num_negative_samples = 5\n",
    "    batch_size = 32\n",
    "    epochs = 50\n",
    "    learning_rate = 0.05  # Increased learning rate\n",
    "    p = 1.0\n",
    "    q = 1.0\n",
    "\n",
    "    # Load graph\n",
    "    karate_graph = load_karate_graph()\n",
    "\n",
    "    # Generate random walks\n",
    "    walks = generate_walks(karate_graph, num_walks, walk_length, p, q)\n",
    "\n",
    "    # Train Node2vec model\n",
    "    model = train_node2vec(\n",
    "        karate_graph,\n",
    "        walks,\n",
    "        embedding_dim,\n",
    "        window_size,\n",
    "        num_negative_samples,\n",
    "        batch_size,\n",
    "        epochs,\n",
    "        learning_rate,\n",
    "        p,\n",
    "        q,\n",
    "    )\n",
    "\n",
    "    # Get node embeddings\n",
    "    node_embeddings = get_node_embeddings(model)\n",
    "\n",
    "    # Visualize embeddings\n",
    "    visualize_embeddings(\n",
    "        node_embeddings, karate_graph, title=\"Node2vec Embeddings (Karate Club)\"\n",
    "    )\n",
    "\n",
    "    # Print the first 5 embeddings\n",
    "    print(\"First 5 Node Embeddings:\")\n",
    "    print(node_embeddings[:5])\n"
   ]
  }
 ],
 "metadata": {
  "kernelspec": {
   "display_name": ".venv (3.12.8)",
   "language": "python",
   "name": "python3"
  },
  "language_info": {
   "codemirror_mode": {
    "name": "ipython",
    "version": 3
   },
   "file_extension": ".py",
   "mimetype": "text/x-python",
   "name": "python",
   "nbconvert_exporter": "python",
   "pygments_lexer": "ipython3",
   "version": "3.12.8"
  }
 },
 "nbformat": 4,
 "nbformat_minor": 2
}
