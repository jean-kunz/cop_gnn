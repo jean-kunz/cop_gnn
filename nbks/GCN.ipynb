{
 "cells": [
  {
   "cell_type": "code",
   "execution_count": null,
   "metadata": {},
   "outputs": [],
   "source": [
    "%load_ext autoreload\n",
    "%autoreload 2   "
   ]
  },
  {
   "cell_type": "code",
   "execution_count": null,
   "metadata": {},
   "outputs": [],
   "source": [
    "import torch\n",
    "import torch.nn as nn\n",
    "from torch_geometric.datasets import KarateClub, TUDataset\n",
    "from torch_geometric.utils import to_networkx, scatter, to_dense_adj\n",
    "from torch_geometric.data import Data\n",
    "from torch_geometric.loader import DataLoader\n",
    "import networkx as nx\n",
    "from matplotlib import pyplot as plt\n",
    "from sklearn.manifold import TSNE\n",
    "from sklearn.decomposition import PCA\n",
    "from icecream import ic\n",
    "import torch\n",
    "import torch.nn as nn\n",
    "import torch.nn.functional as F\n",
    "from torch_geometric.datasets import KarateClub\n",
    "from torch_geometric.utils import add_self_loops, degree, to_dense_adj\n",
    "from sklearn.metrics import jaccard_score\n",
    "import numpy as np\n",
    "import matplotlib.pyplot as plt\n",
    "from sklearn.decomposition import PCA\n"
   ]
  },
  {
   "cell_type": "code",
   "execution_count": null,
   "metadata": {},
   "outputs": [],
   "source": [
    "device = \"mps\" if torch.backends.mps.is_available() else \"cpu\""
   ]
  },
  {
   "cell_type": "code",
   "execution_count": null,
   "metadata": {},
   "outputs": [],
   "source": [
    "def compute_jaccard_similarity(edge_index, num_nodes):\n",
    "    adj = to_dense_adj(edge_index, max_num_nodes=num_nodes).squeeze(0).numpy()\n",
    "    jaccard_matrix = np.zeros((num_nodes, num_nodes))\n",
    "    for i in range(num_nodes):\n",
    "        for j in range(num_nodes):\n",
    "            if i != j:\n",
    "                jaccard_matrix[i, j] = jaccard_score(adj[i], adj[j])\n",
    "    return torch.from_numpy(jaccard_matrix).float()\n",
    "\n",
    "\n",
    "dataset = KarateClub()\n",
    "data = dataset[0]\n",
    "\n",
    "target_jaccard = compute_jaccard_similarity(data.edge_index, data.num_nodes).to(device)\n"
   ]
  },
  {
   "cell_type": "code",
   "execution_count": null,
   "metadata": {},
   "outputs": [],
   "source": [
    "class SimpleGCNConv(nn.Module):\n",
    "    def __init__(self, in_channels, out_channels):\n",
    "        super(SimpleGCNConv, self).__init__()\n",
    "        self.lin = nn.Linear(in_channels, out_channels)\n",
    "\n",
    "    def forward(self, x, edge_index):\n",
    "        edge_index, _ = add_self_loops(edge_index, num_nodes=x.size(0))\n",
    "        row, col = edge_index\n",
    "        deg = degree(col, x.size(0), dtype=x.dtype)\n",
    "        deg_inv_sqrt = deg.pow(-0.5)\n",
    "        deg_inv_sqrt[deg_inv_sqrt == float(\"inf\")] = 0\n",
    "        norm = deg_inv_sqrt[row] * deg_inv_sqrt[col]\n",
    "        x = self.lin(x)\n",
    "        row, col = edge_index\n",
    "        out = torch.zeros(x.size(0), x.size(1)).to(x.device)\n",
    "        for i in range(edge_index.size(1)):\n",
    "            source_node = col[i]\n",
    "            target_node = row[i]\n",
    "            out[target_node] += norm[i] * x[source_node]\n",
    "        return out\n",
    "\n",
    "\n",
    "class GCN(nn.Module):\n",
    "    def __init__(self, in_channels, hidden_channels, out_channels):\n",
    "        super(GCN, self).__init__()\n",
    "        self.conv1 = SimpleGCNConv(in_channels, hidden_channels)\n",
    "        self.conv2 = SimpleGCNConv(hidden_channels, out_channels)\n",
    "\n",
    "    def forward(self, x, edge_index):\n",
    "        x = self.conv1(x, edge_index)\n",
    "        x = F.relu(x)\n",
    "        x = F.dropout(x, training=self.training)\n",
    "        x = self.conv2(x, edge_index)\n",
    "        return x\n"
   ]
  },
  {
   "cell_type": "code",
   "execution_count": null,
   "metadata": {},
   "outputs": [],
   "source": [
    "model = GCN(dataset.num_node_features, 16, data.num_nodes).to(device)\n",
    "data = data.to(device)\n",
    "\n",
    "optimizer = torch.optim.Adam(model.parameters(), lr=0.01, weight_decay=5e-4)\n",
    "\n",
    "model.train()\n",
    "for epoch in range(200):\n",
    "    optimizer.zero_grad()\n",
    "    out = model(data.x, data.edge_index)\n",
    "    loss = F.mse_loss(out, target_jaccard)\n",
    "    loss.backward()\n",
    "    optimizer.step()\n",
    "    if epoch % 20 == 0:\n",
    "        print(f\"Epoch: {epoch:03d}, Loss: {loss:.4f}\")\n",
    "\n",
    "model.eval()\n",
    "embeddings = model(data.x, data.edge_index).cpu().detach().numpy()\n"
   ]
  },
  {
   "cell_type": "code",
   "execution_count": null,
   "metadata": {},
   "outputs": [],
   "source": [
    "pca = PCA(n_components=2)\n",
    "Z_2d = pca.fit_transform(embeddings)\n",
    "labels = data.y.cpu().numpy()\n",
    "num_nodes = data.num_nodes\n",
    "# Visualize in 2D\n",
    "plt.figure(figsize=(8, 6))\n",
    "scatter = plt.scatter(Z_2d[:, 0], Z_2d[:, 1], c=labels, cmap=\"viridis\", s=100)\n",
    "plt.colorbar(scatter, label=\"Community Label\")\n",
    "plt.title(\"2D Visualization of Node Embeddings (Zachary Karate Club) with PCA\")\n",
    "plt.xlabel(\"PCA Dimension 1\")\n",
    "plt.ylabel(\"PCA Dimension 2\")\n",
    "for i in range(num_nodes):  # Optional: label nodes\n",
    "    plt.text(Z_2d[i, 0], Z_2d[i, 1], str(i), fontsize=8, ha=\"right\")\n",
    "plt.show()"
   ]
  },
  {
   "cell_type": "code",
   "execution_count": null,
   "metadata": {},
   "outputs": [],
   "source": []
  }
 ],
 "metadata": {
  "kernelspec": {
   "display_name": ".venv (3.12.8)",
   "language": "python",
   "name": "python3"
  },
  "language_info": {
   "codemirror_mode": {
    "name": "ipython",
    "version": 3
   },
   "file_extension": ".py",
   "mimetype": "text/x-python",
   "name": "python",
   "nbconvert_exporter": "python",
   "pygments_lexer": "ipython3",
   "version": "3.12.8"
  }
 },
 "nbformat": 4,
 "nbformat_minor": 2
}
