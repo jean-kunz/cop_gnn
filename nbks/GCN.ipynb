{
 "cells": [
  {
   "cell_type": "code",
   "execution_count": 1,
   "metadata": {},
   "outputs": [],
   "source": [
    "%load_ext autoreload\n",
    "%autoreload 2   "
   ]
  },
  {
   "cell_type": "code",
   "execution_count": 2,
   "metadata": {},
   "outputs": [],
   "source": [
    "import torch\n",
    "import torch.nn as nn\n",
    "from torch_geometric.datasets import KarateClub, TUDataset\n",
    "from torch_geometric.utils import to_networkx, scatter, to_dense_adj\n",
    "from torch_geometric.data import Data\n",
    "from torch_geometric.loader import DataLoader\n",
    "import networkx as nx\n",
    "from matplotlib import pyplot as plt\n",
    "from sklearn.manifold import TSNE\n",
    "from sklearn.decomposition import PCA\n",
    "from icecream import ic\n",
    "import torch\n",
    "import torch.nn as nn\n",
    "import torch.nn.functional as F\n",
    "from torch_geometric.datasets import KarateClub\n",
    "from torch_geometric.utils import add_self_loops, degree, to_dense_adj\n",
    "from sklearn.metrics import jaccard_score\n",
    "import numpy as np\n",
    "import matplotlib.pyplot as plt\n",
    "from sklearn.decomposition import PCA\n"
   ]
  },
  {
   "cell_type": "code",
   "execution_count": 3,
   "metadata": {},
   "outputs": [],
   "source": [
    "device = \"mps\" if torch.backends.mps.is_available() else \"cpu\""
   ]
  },
  {
   "cell_type": "code",
   "execution_count": 4,
   "metadata": {},
   "outputs": [],
   "source": [
    "def compute_jaccard_similarity(edge_index, num_nodes):\n",
    "    adj = to_dense_adj(edge_index, max_num_nodes=num_nodes).squeeze(0).numpy()\n",
    "    jaccard_matrix = np.zeros((num_nodes, num_nodes))\n",
    "    for i in range(num_nodes):\n",
    "        for j in range(num_nodes):\n",
    "            if i != j:\n",
    "                jaccard_matrix[i, j] = jaccard_score(adj[i], adj[j])\n",
    "    return torch.from_numpy(jaccard_matrix).float()\n",
    "\n",
    "\n",
    "dataset = KarateClub()\n",
    "data = dataset[0]\n",
    "\n",
    "target_jaccard = compute_jaccard_similarity(data.edge_index, data.num_nodes).to(device)\n"
   ]
  },
  {
   "cell_type": "code",
   "execution_count": 24,
   "metadata": {},
   "outputs": [],
   "source": [
    "class SimpleGCNConv(nn.Module):\n",
    "    def __init__(self, in_channels, out_channels):\n",
    "        super(SimpleGCNConv, self).__init__()\n",
    "        self.lin = nn.Linear(in_channels, out_channels)\n",
    "\n",
    "    def forward(self, x, edge_index):\n",
    "        edge_index, _ = add_self_loops(edge_index, num_nodes=x.size(0))\n",
    "        row, col = edge_index\n",
    "        deg = degree(col, x.size(0), dtype=x.dtype)\n",
    "        deg_inv_sqrt = deg.pow(-0.5)\n",
    "        deg_inv_sqrt[deg_inv_sqrt == float(\"inf\")] = 0\n",
    "        norm = deg_inv_sqrt[row] * deg_inv_sqrt[col]\n",
    "        x = self.lin(x)\n",
    "        row, col = edge_index\n",
    "        out = torch.zeros(x.size(0), x.size(1)).to(x.device)\n",
    "        row, col = edge_index\n",
    "        for i, (src, tgt) in enumerate(zip(row, col)):\n",
    "            out[tgt] += norm[i] * x[src]\n",
    "        # for i in range(edge_index.size(1)):\n",
    "        #    source_node = col[i]\n",
    "        #    target_node = row[i]\n",
    "        #    out[target_node] += norm[i] * x[source_node]\n",
    "        return out\n",
    "\n",
    "\n",
    "class GCN(nn.Module):\n",
    "    def __init__(self, in_channels, hidden_channels, out_channels):\n",
    "        super(GCN, self).__init__()\n",
    "        self.conv1 = SimpleGCNConv(in_channels, hidden_channels)\n",
    "        self.conv2 = SimpleGCNConv(hidden_channels, out_channels)\n",
    "\n",
    "    def forward(self, x, edge_index):\n",
    "        x = self.conv1(x, edge_index)\n",
    "        x = F.relu(x)\n",
    "        x = F.dropout(x, training=self.training)\n",
    "        x = self.conv2(x, edge_index)\n",
    "        return x\n"
   ]
  },
  {
   "cell_type": "code",
   "execution_count": 25,
   "metadata": {},
   "outputs": [
    {
     "name": "stderr",
     "output_type": "stream",
     "text": [
      "ic| edge_index: tensor([[ 0,  0,  0,  0,  0,  0,  0,  0,  0,  0,  0,  0,  0,  0,  0,  0,  1,  1,\n",
      "                          1,  1,  1,  1,  1,  1,  1,  2,  2,  2,  2,  2,  2,  2,  2,  2,  2,  3,\n",
      "                          3,  3,  3,  3,  3,  4,  4,  4,  5,  5,  5,  5,  6,  6,  6,  6,  7,  7,\n",
      "                          7,  7,  8,  8,  8,  8,  8,  9,  9, 10, 10, 10, 11, 12, 12, 13, 13, 13,\n",
      "                         13, 13, 14, 14, 15, 15, 16, 16, 17, 17, 18, 18, 19, 19, 19, 20, 20, 21,\n",
      "                         21, 22, 22, 23, 23, 23, 23, 23, 24, 24, 24, 25, 25, 25, 26, 26, 27, 27,\n",
      "                         27, 27, 28, 28, 28, 29, 29, 29, 29, 30, 30, 30, 30, 31, 31, 31, 31, 31,\n",
      "                         31, 32, 32, 32, 32, 32, 32, 32, 32, 32, 32, 32, 32, 33, 33, 33, 33, 33,\n",
      "                         33, 33, 33, 33, 33, 33, 33, 33, 33, 33, 33, 33,  0,  1,  2,  3,  4,  5,\n",
      "                          6,  7,  8,  9, 10, 11, 12, 13, 14, 15, 16, 17, 18, 19, 20, 21, 22, 23,\n",
      "                         24, 25, 26, 27, 28, 29, 30, 31, 32, 33],\n",
      "                        [ 1,  2,  3,  4,  5,  6,  7,  8, 10, 11, 12, 13, 17, 19, 21, 31,  0,  2,\n",
      "                          3,  7, 13, 17, 19, 21, 30,  0,  1,  3,  7,  8,  9, 13, 27, 28, 32,  0,\n",
      "                          1,  2,  7, 12, 13,  0,  6, 10,  0,  6, 10, 16,  0,  4,  5, 16,  0,  1,\n",
      "                          2,  3,  0,  2, 30, 32, 33,  2, 33,  0,  4,  5,  0,  0,  3,  0,  1,  2,\n",
      "                          3, 33, 32, 33, 32, 33,  5,  6,  0,  1, 32, 33,  0,  1, 33, 32, 33,  0,\n",
      "                          1, 32, 33, 25, 27, 29, 32, 33, 25, 27, 31, 23, 24, 31, 29, 33,  2, 23,\n",
      "                         24, 33,  2, 31, 33, 23, 26, 32, 33,  1,  8, 32, 33,  0, 24, 25, 28, 32,\n",
      "                         33,  2,  8, 14, 15, 18, 20, 22, 23, 29, 30, 31, 33,  8,  9, 13, 14, 15,\n",
      "                         18, 19, 20, 22, 23, 26, 27, 28, 29, 30, 31, 32,  0,  1,  2,  3,  4,  5,\n",
      "                          6,  7,  8,  9, 10, 11, 12, 13, 14, 15, 16, 17, 18, 19, 20, 21, 22, 23,\n",
      "                         24, 25, 26, 27, 28, 29, 30, 31, 32, 33]], device='mps:0')\n"
     ]
    }
   ],
   "source": [
    "data = data.to(device)\n",
    "edge_index, _ = add_self_loops(data.edge_index, num_nodes=data.num_nodes)\n",
    "ic(edge_index);"
   ]
  },
  {
   "cell_type": "code",
   "execution_count": 26,
   "metadata": {},
   "outputs": [
    {
     "data": {
      "text/plain": [
       "torch.float32"
      ]
     },
     "execution_count": 26,
     "metadata": {},
     "output_type": "execute_result"
    }
   ],
   "source": [
    "data.x.shape, data.edge_index.shape, data.num_nodes\n",
    "data.x.dtype"
   ]
  },
  {
   "cell_type": "code",
   "execution_count": 27,
   "metadata": {},
   "outputs": [
    {
     "name": "stderr",
     "output_type": "stream",
     "text": [
      "ic| row: tensor([ 0,  0,  0,  0,  0,  0,  0,  0,  0,  0,  0,  0,  0,  0,  0,  0,  1,  1,\n",
      "                  1,  1,  1,  1,  1,  1,  1,  2,  2,  2,  2,  2,  2,  2,  2,  2,  2,  3,\n",
      "                  3,  3,  3,  3,  3,  4,  4,  4,  5,  5,  5,  5,  6,  6,  6,  6,  7,  7,\n",
      "                  7,  7,  8,  8,  8,  8,  8,  9,  9, 10, 10, 10, 11, 12, 12, 13, 13, 13,\n",
      "                 13, 13, 14, 14, 15, 15, 16, 16, 17, 17, 18, 18, 19, 19, 19, 20, 20, 21,\n",
      "                 21, 22, 22, 23, 23, 23, 23, 23, 24, 24, 24, 25, 25, 25, 26, 26, 27, 27,\n",
      "                 27, 27, 28, 28, 28, 29, 29, 29, 29, 30, 30, 30, 30, 31, 31, 31, 31, 31,\n",
      "                 31, 32, 32, 32, 32, 32, 32, 32, 32, 32, 32, 32, 32, 33, 33, 33, 33, 33,\n",
      "                 33, 33, 33, 33, 33, 33, 33, 33, 33, 33, 33, 33,  0,  1,  2,  3,  4,  5,\n",
      "                  6,  7,  8,  9, 10, 11, 12, 13, 14, 15, 16, 17, 18, 19, 20, 21, 22, 23,\n",
      "                 24, 25, 26, 27, 28, 29, 30, 31, 32, 33], device='mps:0')\n",
      "    col: tensor([ 1,  2,  3,  4,  5,  6,  7,  8, 10, 11, 12, 13, 17, 19, 21, 31,  0,  2,\n",
      "                  3,  7, 13, 17, 19, 21, 30,  0,  1,  3,  7,  8,  9, 13, 27, 28, 32,  0,\n",
      "                  1,  2,  7, 12, 13,  0,  6, 10,  0,  6, 10, 16,  0,  4,  5, 16,  0,  1,\n",
      "                  2,  3,  0,  2, 30, 32, 33,  2, 33,  0,  4,  5,  0,  0,  3,  0,  1,  2,\n",
      "                  3, 33, 32, 33, 32, 33,  5,  6,  0,  1, 32, 33,  0,  1, 33, 32, 33,  0,\n",
      "                  1, 32, 33, 25, 27, 29, 32, 33, 25, 27, 31, 23, 24, 31, 29, 33,  2, 23,\n",
      "                 24, 33,  2, 31, 33, 23, 26, 32, 33,  1,  8, 32, 33,  0, 24, 25, 28, 32,\n",
      "                 33,  2,  8, 14, 15, 18, 20, 22, 23, 29, 30, 31, 33,  8,  9, 13, 14, 15,\n",
      "                 18, 19, 20, 22, 23, 26, 27, 28, 29, 30, 31, 32,  0,  1,  2,  3,  4,  5,\n",
      "                  6,  7,  8,  9, 10, 11, 12, 13, 14, 15, 16, 17, 18, 19, 20, 21, 22, 23,\n",
      "                 24, 25, 26, 27, 28, 29, 30, 31, 32, 33], device='mps:0')\n",
      "ic| deg: tensor([17., 10., 11.,  7.,  4.,  5.,  5.,  5.,  6.,  3.,  4.,  2.,  3.,  6.,\n",
      "                  3.,  3.,  3.,  3.,  3.,  4.,  3.,  3.,  3.,  6.,  4.,  4.,  3.,  5.,\n",
      "                  4.,  5.,  5.,  7., 13., 18.], device='mps:0')\n",
      "    deg.shape: torch.Size([34])\n"
     ]
    }
   ],
   "source": [
    "row, col = edge_index\n",
    "ic(row, col)\n",
    "deg = degree(index=col, num_nodes=data.x.size(0), dtype=data.x.dtype)\n",
    "ic(deg, deg.shape);"
   ]
  },
  {
   "cell_type": "code",
   "execution_count": 28,
   "metadata": {},
   "outputs": [
    {
     "name": "stderr",
     "output_type": "stream",
     "text": [
      "ic| deg_inv_sqrt: tensor([0.2425, 0.3162, 0.3015, 0.3780, 0.5000, 0.4472, 0.4472, 0.4472, 0.4082,\n",
      "                          0.5774, 0.5000, 0.7071, 0.5774, 0.4082, 0.5774, 0.5774, 0.5774, 0.5774,\n",
      "                          0.5774, 0.5000, 0.5774, 0.5774, 0.5774, 0.4082, 0.5000, 0.5000, 0.5774,\n",
      "                          0.4472, 0.5000, 0.4472, 0.4472, 0.3780, 0.2774, 0.2357],\n",
      "                         device='mps:0')\n",
      "ic| deg_inv_sqrt: tensor([0.2425, 0.3162, 0.3015, 0.3780, 0.5000, 0.4472, 0.4472, 0.4472, 0.4082,\n",
      "                          0.5774, 0.5000, 0.7071, 0.5774, 0.4082, 0.5774, 0.5774, 0.5774, 0.5774,\n",
      "                          0.5774, 0.5000, 0.5774, 0.5774, 0.5774, 0.4082, 0.5000, 0.5000, 0.5774,\n",
      "                          0.4472, 0.5000, 0.4472, 0.4472, 0.3780, 0.2774, 0.2357],\n",
      "                         device='mps:0')\n"
     ]
    }
   ],
   "source": [
    "deg_inv_sqrt = deg.pow(-0.5)\n",
    "ic(deg_inv_sqrt)\n",
    "deg_inv_sqrt[deg_inv_sqrt == float(\"inf\")] = 0\n",
    "ic(deg_inv_sqrt);"
   ]
  },
  {
   "cell_type": "code",
   "execution_count": 29,
   "metadata": {},
   "outputs": [
    {
     "name": "stderr",
     "output_type": "stream",
     "text": [
      "ic| deg_inv_sqrt[row]: tensor([0.2425, 0.2425, 0.2425, 0.2425, 0.2425, 0.2425, 0.2425, 0.2425, 0.2425,\n",
      "                               0.2425, 0.2425, 0.2425, 0.2425, 0.2425, 0.2425, 0.2425, 0.3162, 0.3162,\n",
      "                               0.3162, 0.3162, 0.3162, 0.3162, 0.3162, 0.3162, 0.3162, 0.3015, 0.3015,\n",
      "                               0.3015, 0.3015, 0.3015, 0.3015, 0.3015, 0.3015, 0.3015, 0.3015, 0.3780,\n",
      "                               0.3780, 0.3780, 0.3780, 0.3780, 0.3780, 0.5000, 0.5000, 0.5000, 0.4472,\n",
      "                               0.4472, 0.4472, 0.4472, 0.4472, 0.4472, 0.4472, 0.4472, 0.4472, 0.4472,\n",
      "                               0.4472, 0.4472, 0.4082, 0.4082, 0.4082, 0.4082, 0.4082, 0.5774, 0.5774,\n",
      "                               0.5000, 0.5000, 0.5000, 0.7071, 0.5774, 0.5774, 0.4082, 0.4082, 0.4082,\n",
      "                               0.4082, 0.4082, 0.5774, 0.5774, 0.5774, 0.5774, 0.5774, 0.5774, 0.5774,\n",
      "                               0.5774, 0.5774, 0.5774, 0.5000, 0.5000, 0.5000, 0.5774, 0.5774, 0.5774,\n",
      "                               0.5774, 0.5774, 0.5774, 0.4082, 0.4082, 0.4082, 0.4082, 0.4082, 0.5000,\n",
      "                               0.5000, 0.5000, 0.5000, 0.5000, 0.5000, 0.5774, 0.5774, 0.4472, 0.4472,\n",
      "                               0.4472, 0.4472, 0.5000, 0.5000, 0.5000, 0.4472, 0.4472, 0.4472, 0.4472,\n",
      "                               0.4472, 0.4472, 0.4472, 0.4472, 0.3780, 0.3780, 0.3780, 0.3780, 0.3780,\n",
      "                               0.3780, 0.2774, 0.2774, 0.2774, 0.2774, 0.2774, 0.2774, 0.2774, 0.2774,\n",
      "                               0.2774, 0.2774, 0.2774, 0.2774, 0.2357, 0.2357, 0.2357, 0.2357, 0.2357,\n",
      "                               0.2357, 0.2357, 0.2357, 0.2357, 0.2357, 0.2357, 0.2357, 0.2357, 0.2357,\n",
      "                               0.2357, 0.2357, 0.2357, 0.2425, 0.3162, 0.3015, 0.3780, 0.5000, 0.4472,\n",
      "                               0.4472, 0.4472, 0.4082, 0.5774, 0.5000, 0.7071, 0.5774, 0.4082, 0.5774,\n",
      "                               0.5774, 0.5774, 0.5774, 0.5774, 0.5000, 0.5774, 0.5774, 0.5774, 0.4082,\n",
      "                               0.5000, 0.5000, 0.5774, 0.4472, 0.5000, 0.4472, 0.4472, 0.3780, 0.2774,\n",
      "                               0.2357], device='mps:0')\n",
      "ic| norm: tensor([0.0767, 0.0731, 0.0917, 0.1213, 0.1085, 0.1085, 0.1085, 0.0990, 0.1213,\n",
      "                  0.1715, 0.1400, 0.0990, 0.1400, 0.1213, 0.1400, 0.0917, 0.0767, 0.0953,\n",
      "                  0.1195, 0.1414, 0.1291, 0.1826, 0.1581, 0.1826, 0.1414, 0.0731, 0.0953,\n",
      "                  0.1140, 0.1348, 0.1231, 0.1741, 0.1231, 0.1348, 0.1508, 0.0836, 0.0917,\n",
      "                  0.1195, 0.1140, 0.1690, 0.2182, 0.1543, 0.1213, 0.2236, 0.2500, 0.1085,\n",
      "                  0.2000, 0.2236, 0.2582, 0.1085, 0.2236, 0.2000, 0.2582, 0.1085, 0.1414,\n",
      "                  0.1348, 0.1690, 0.0990, 0.1231, 0.1826, 0.1132, 0.0962, 0.1741, 0.1361,\n",
      "                  0.1213, 0.2500, 0.2236, 0.1715, 0.1400, 0.2182, 0.0990, 0.1291, 0.1231,\n",
      "                  0.1543, 0.0962, 0.1601, 0.1361, 0.1601, 0.1361, 0.2582, 0.2582, 0.1400,\n",
      "                  0.1826, 0.1601, 0.1361, 0.1213, 0.1581, 0.1179, 0.1601, 0.1361, 0.1400,\n",
      "                  0.1826, 0.1601, 0.1361, 0.2041, 0.1826, 0.1826, 0.1132, 0.0962, 0.2500,\n",
      "                  0.2236, 0.1890, 0.2041, 0.2500, 0.1890, 0.2582, 0.1361, 0.1348, 0.1826,\n",
      "                  0.2236, 0.1054, 0.1508, 0.1890, 0.1179, 0.1826, 0.2582, 0.1240, 0.1054,\n",
      "                  0.1414, 0.1826, 0.1240, 0.1054, 0.0917, 0.1890, 0.1890, 0.1890, 0.1048,\n",
      "                  0.0891, 0.0836, 0.1132, 0.1601, 0.1601, 0.1601, 0.1601, 0.1601, 0.1132,\n",
      "                  0.1240, 0.1240, 0.1048, 0.0654, 0.0962, 0.1361, 0.0962, 0.1361, 0.1361,\n",
      "                  0.1361, 0.1179, 0.1361, 0.1361, 0.0962, 0.1361, 0.1054, 0.1179, 0.1054,\n",
      "                  0.1054, 0.0891, 0.0654, 0.0588, 0.1000, 0.0909, 0.1429, 0.2500, 0.2000,\n",
      "                  0.2000, 0.2000, 0.1667, 0.3333, 0.2500, 0.5000, 0.3333, 0.1667, 0.3333,\n",
      "                  0.3333, 0.3333, 0.3333, 0.3333, 0.2500, 0.3333, 0.3333, 0.3333, 0.1667,\n",
      "                  0.2500, 0.2500, 0.3333, 0.2000, 0.2500, 0.2000, 0.2000, 0.1429, 0.0769,\n",
      "                  0.0556], device='mps:0')\n"
     ]
    }
   ],
   "source": [
    "# multiply row with its corresponding value in deg_inv_sqrt * col with its corresponding value in deg_inv_sqrt\n",
    "norm = deg_inv_sqrt[row] * deg_inv_sqrt[col]\n",
    "ic(deg_inv_sqrt[row])\n",
    "ic(norm);"
   ]
  },
  {
   "cell_type": "code",
   "execution_count": 30,
   "metadata": {},
   "outputs": [
    {
     "name": "stderr",
     "output_type": "stream",
     "text": [
      "ic| x.shape: torch.Size([34, 16])\n"
     ]
    },
    {
     "data": {
      "text/plain": [
       "torch.Size([34, 16])"
      ]
     },
     "execution_count": 30,
     "metadata": {},
     "output_type": "execute_result"
    }
   ],
   "source": [
    "in_channels = dataset.num_features\n",
    "out_channels = 16\n",
    "lin = nn.Linear(in_channels, out_channels).to(device)\n",
    "x = lin(data.x)\n",
    "ic(x.shape)"
   ]
  },
  {
   "cell_type": "code",
   "execution_count": 39,
   "metadata": {},
   "outputs": [
    {
     "name": "stderr",
     "output_type": "stream",
     "text": [
      "ic| out.shape: torch.Size([34, 16])\n"
     ]
    },
    {
     "data": {
      "text/plain": [
       "tensor([[-1.7114e-01,  3.4069e-01, -1.2962e-01,  3.5315e-01,  5.9452e-02,\n",
       "         -1.9096e-01, -1.2778e-01, -1.5971e-01, -2.9054e-01,  2.2277e-01,\n",
       "         -2.7686e-01,  6.3024e-02, -6.0149e-02,  2.1226e-02,  7.6139e-02,\n",
       "         -8.0071e-02],\n",
       "        [-9.9992e-02,  2.5420e-01, -1.7767e-01,  2.8736e-01,  5.8850e-02,\n",
       "         -8.8369e-02, -1.1038e-01, -1.2249e-01, -2.3443e-01,  1.7898e-01,\n",
       "         -1.8181e-01,  4.2769e-02, -4.4481e-02, -2.1806e-02,  3.8796e-02,\n",
       "         -5.8232e-02],\n",
       "        [-1.6408e-01,  2.7988e-01, -1.1740e-01,  2.8921e-01,  1.1311e-01,\n",
       "         -1.0562e-01, -1.2279e-01, -1.7654e-01, -1.9642e-01,  1.9108e-01,\n",
       "         -1.9135e-01,  9.4801e-02, -1.3687e-01, -7.3531e-02,  3.1182e-02,\n",
       "         -1.3770e-01],\n",
       "        [-1.5076e-01,  1.4448e-01, -7.0201e-02,  1.8738e-01,  9.1038e-02,\n",
       "         -6.4527e-02, -6.1268e-02, -1.3271e-01, -1.0354e-01,  2.1670e-01,\n",
       "         -1.2522e-01,  4.3139e-02, -1.3426e-02, -1.9236e-02,  2.5977e-02,\n",
       "         -5.5211e-02],\n",
       "        [-1.0555e-01,  1.6644e-01, -3.5219e-02,  1.6667e-01,  8.2176e-03,\n",
       "         -1.1092e-01, -2.8028e-02, -1.1634e-01, -1.5954e-01,  1.1147e-01,\n",
       "         -1.8171e-01,  4.9082e-02, -7.6882e-02, -7.9221e-02,  1.9085e-02,\n",
       "         -4.5688e-02],\n",
       "        [-7.2784e-02,  2.2737e-01, -9.6467e-03,  1.2276e-01, -4.0373e-02,\n",
       "         -1.5803e-01, -1.9377e-02, -1.2165e-01, -1.4304e-01,  1.2552e-01,\n",
       "         -2.3677e-01,  7.7592e-02, -1.6269e-01,  1.0896e-02,  3.4178e-02,\n",
       "         -5.6871e-02],\n",
       "        [-3.3504e-02,  1.5744e-01, -2.0803e-02,  1.4915e-01,  2.7525e-02,\n",
       "         -1.6763e-01, -4.8249e-02, -1.4565e-01, -1.6194e-01,  9.3331e-02,\n",
       "         -2.0306e-01,  5.0175e-02, -1.4660e-01, -9.0318e-03,  8.7675e-02,\n",
       "         -5.5779e-02],\n",
       "        [-1.3935e-01,  1.3758e-01, -9.2166e-02,  1.4905e-01,  2.8924e-02,\n",
       "         -4.4280e-02, -7.9428e-02, -8.1342e-02, -9.1445e-02,  1.7319e-01,\n",
       "         -1.2924e-01,  6.6751e-02, -5.5281e-03, -6.6868e-02,  3.9815e-02,\n",
       "         -8.4536e-02],\n",
       "        [-5.4371e-02,  1.6148e-01, -5.2982e-02,  1.1661e-01,  8.6733e-02,\n",
       "         -2.7367e-02, -1.0429e-01, -7.8793e-02, -1.4578e-01,  6.6645e-02,\n",
       "         -1.1824e-01,  3.0904e-02, -4.6584e-02, -4.5262e-02,  4.7656e-02,\n",
       "         -8.9158e-02],\n",
       "        [-9.2335e-02,  1.3284e-01, -5.9129e-02,  1.3954e-01,  1.1924e-01,\n",
       "         -4.6009e-02, -3.4466e-02, -1.0432e-01, -1.3996e-01,  4.3863e-02,\n",
       "         -8.9512e-02,  8.5029e-02, -8.1726e-02, -3.9921e-02,  2.3442e-02,\n",
       "         -2.9815e-02],\n",
       "        [-1.1697e-01,  1.2550e-01, -4.4975e-02,  1.6421e-01,  1.8651e-02,\n",
       "         -1.4553e-01, -3.1196e-02, -1.5247e-01, -1.2943e-01,  8.7283e-02,\n",
       "         -1.9108e-01,  9.9265e-02, -9.7396e-02, -3.9602e-02,  4.3561e-02,\n",
       "         -6.8726e-03],\n",
       "        [-2.5953e-02,  1.3105e-01, -1.2717e-02,  1.0545e-01, -1.8278e-02,\n",
       "         -1.3331e-01, -1.4216e-01, -2.1545e-03, -1.7295e-01,  1.1323e-01,\n",
       "         -1.1997e-01, -4.5356e-03, -1.4831e-02,  5.6217e-02,  9.5205e-02,\n",
       "         -8.9106e-02],\n",
       "        [-1.3093e-01,  6.0850e-02, -4.6217e-02,  9.8989e-02,  5.5027e-02,\n",
       "         -7.8313e-02, -1.2663e-02, -1.0331e-01, -6.8757e-02,  1.4815e-01,\n",
       "         -1.1984e-01, -2.1045e-02, -5.8036e-03,  5.8798e-03,  2.0505e-02,\n",
       "         -1.1193e-02],\n",
       "        [-1.0064e-01,  7.5987e-02, -6.0133e-02,  1.5014e-01,  4.9724e-02,\n",
       "         -4.5596e-02, -5.6611e-02, -8.7837e-02, -1.1714e-01,  1.6404e-01,\n",
       "         -8.1238e-02,  4.5082e-02, -3.2192e-02, -3.8447e-02,  2.4977e-02,\n",
       "         -5.6767e-02],\n",
       "        [-2.7497e-02,  6.2160e-02, -7.1299e-02,  1.4612e-01,  8.0529e-02,\n",
       "         -7.4993e-02, -1.1050e-01, -2.4291e-02, -8.6218e-02,  5.3723e-02,\n",
       "         -1.3816e-01,  1.3116e-01, -3.1877e-02, -2.0786e-02,  7.7955e-02,\n",
       "         -4.6676e-02],\n",
       "        [-9.0939e-02,  1.4052e-01, -8.7212e-03,  1.3540e-01,  4.1555e-02,\n",
       "          1.1492e-03, -7.9260e-02, -1.1972e-01, -1.3194e-01,  5.9724e-02,\n",
       "         -5.6164e-02,  7.4871e-02, -3.6075e-02,  4.1471e-02,  1.0352e-01,\n",
       "         -5.1568e-02],\n",
       "        [ 4.9613e-03,  1.8763e-01,  1.1627e-02,  7.8427e-02, -3.5932e-02,\n",
       "         -1.3565e-01, -1.7923e-02, -8.7471e-02, -1.1767e-01,  8.4840e-02,\n",
       "         -1.8892e-01,  4.3066e-02, -1.6152e-01,  3.6340e-02,  5.7875e-02,\n",
       "         -5.2005e-02],\n",
       "        [-1.2322e-02,  1.3332e-01, -1.0258e-01,  1.8197e-01, -6.4042e-03,\n",
       "         -9.3147e-02, -7.3392e-02, -3.1425e-02, -1.5239e-01,  9.4772e-02,\n",
       "         -1.0475e-01,  1.3841e-02,  1.7097e-02,  3.7524e-03,  4.6154e-02,\n",
       "         -2.7031e-02],\n",
       "        [-5.8436e-02,  1.1183e-01, -9.9752e-03,  1.0641e-01, -1.2894e-02,\n",
       "         -6.5263e-02, -8.0760e-02, -1.1607e-01, -1.1516e-01,  8.1795e-02,\n",
       "         -2.9355e-02,  1.1979e-01, -1.2006e-01, -3.1393e-02,  4.1532e-04,\n",
       "         -5.5929e-02],\n",
       "        [-2.5285e-02,  1.1789e-01, -8.2943e-02,  1.2817e-01,  6.9858e-02,\n",
       "         -2.3993e-02, -5.0912e-02, -9.9701e-02, -9.4375e-02,  6.6782e-02,\n",
       "         -5.5879e-02,  3.2463e-02, -3.3783e-02,  2.4474e-02,  6.1961e-02,\n",
       "         -4.3893e-02],\n",
       "        [-3.4792e-02,  1.5294e-01, -4.9794e-02,  1.0066e-01,  3.4816e-02,\n",
       "          1.0949e-02, -1.0582e-01, -2.5757e-02, -7.2777e-02,  5.7228e-02,\n",
       "         -3.0564e-02,  4.0331e-02, -4.4269e-02,  4.4448e-02,  1.0218e-01,\n",
       "         -7.1752e-02],\n",
       "        [-9.3531e-02,  1.0140e-01, -1.3862e-01,  1.8167e-01,  1.5588e-03,\n",
       "         -5.7081e-02, -9.7562e-02, -6.8267e-02, -1.6832e-01,  9.3520e-02,\n",
       "         -1.0843e-01,  5.9873e-02, -4.5593e-02,  1.2936e-02,  2.5249e-02,\n",
       "         -6.8754e-02],\n",
       "        [-2.3593e-02,  7.0254e-02, -4.9352e-02,  1.2678e-01,  5.5270e-02,\n",
       "          5.6026e-05, -1.1585e-01, -1.3540e-01, -1.7001e-01,  6.2614e-02,\n",
       "         -1.4196e-01,  3.4861e-02, -4.2896e-02, -1.3107e-02,  7.6017e-02,\n",
       "         -8.0305e-02],\n",
       "        [-1.3772e-02,  2.0550e-01, -2.8779e-02,  2.1147e-01,  8.7931e-02,\n",
       "         -1.3391e-01, -1.0350e-01, -1.7412e-01, -1.8857e-01,  1.1488e-01,\n",
       "         -1.1971e-01,  1.9230e-02, -5.2939e-02,  1.3021e-02,  7.9987e-02,\n",
       "         -1.0422e-01],\n",
       "        [-8.2131e-02,  1.8228e-01, -5.5712e-02,  2.3936e-01,  1.8485e-02,\n",
       "         -2.0020e-01, -5.8209e-02, -7.1097e-02, -1.7559e-01,  1.5743e-01,\n",
       "         -1.2498e-01, -3.3217e-03,  2.0326e-03,  4.3557e-03,  4.4807e-02,\n",
       "         -3.2039e-02],\n",
       "        [-6.7922e-02,  1.7139e-01, -7.9744e-02,  2.2238e-01,  1.8884e-02,\n",
       "         -1.3561e-01, -2.9518e-02, -9.1978e-02, -1.8421e-01,  9.9489e-02,\n",
       "         -1.0159e-01,  3.1896e-03,  5.0614e-02, -7.5452e-04, -5.3114e-03,\n",
       "         -2.1148e-02],\n",
       "        [-7.1583e-02,  8.3172e-02, -5.3188e-02,  8.4824e-02,  5.6149e-02,\n",
       "         -1.1442e-01, -3.8877e-02, -8.6671e-02, -1.3306e-01,  5.1697e-02,\n",
       "         -1.2909e-01,  9.1880e-02, -3.8929e-02,  3.1111e-02,  5.5954e-02,\n",
       "         -3.1294e-02],\n",
       "        [-7.0547e-02,  1.5673e-01, -6.5896e-02,  1.6556e-01,  6.4560e-02,\n",
       "         -1.2079e-01, -9.6001e-02, -1.0091e-01, -1.6402e-01,  1.1395e-01,\n",
       "         -1.3511e-01,  1.4323e-02,  3.3022e-03, -4.9474e-02,  2.5435e-02,\n",
       "         -1.0402e-01],\n",
       "        [-1.2764e-01,  1.0464e-01, -8.2464e-02,  1.2400e-01,  3.7721e-02,\n",
       "         -7.2161e-02, -6.0860e-02, -7.5400e-02, -1.3568e-01,  5.9751e-02,\n",
       "         -9.6985e-02, -8.0569e-05, -4.6675e-02, -1.7243e-02, -8.3825e-04,\n",
       "         -8.0880e-02],\n",
       "        [-5.2570e-02,  1.3797e-01, -5.1921e-02,  1.3319e-01,  6.5629e-02,\n",
       "         -8.5372e-02, -6.8017e-02, -1.2437e-01, -1.6953e-01,  4.1542e-02,\n",
       "         -1.4936e-01,  8.0104e-02, -4.1893e-02,  2.7623e-02,  4.6637e-02,\n",
       "         -5.9094e-02],\n",
       "        [-1.3796e-02,  1.7737e-01, -8.3583e-02,  1.1632e-01,  6.5124e-02,\n",
       "          1.0374e-02, -1.1108e-01, -8.3519e-02, -1.4255e-01,  4.9032e-02,\n",
       "         -8.4531e-02,  7.2946e-02, -3.6666e-02, -2.7571e-02,  4.9703e-02,\n",
       "         -6.9844e-02],\n",
       "        [-1.2711e-01,  1.9031e-01, -1.1217e-01,  2.4763e-01,  1.2760e-02,\n",
       "         -1.6153e-01, -7.3855e-02, -1.1209e-01, -2.0757e-01,  1.2281e-01,\n",
       "         -1.5327e-01,  4.9607e-02, -6.6193e-02, -8.6565e-03,  1.5850e-02,\n",
       "         -6.8790e-02],\n",
       "        [-1.2853e-01,  2.9091e-01, -1.2727e-01,  2.8512e-01,  1.2618e-01,\n",
       "         -6.7850e-02, -1.9780e-01, -1.9116e-01, -2.7412e-01,  1.5396e-01,\n",
       "         -1.9557e-01,  8.1990e-02, -2.9879e-02, -3.0571e-02,  1.1103e-01,\n",
       "         -1.4184e-01],\n",
       "        [-1.5014e-01,  3.8359e-01, -1.6967e-01,  3.7853e-01,  1.7718e-01,\n",
       "         -1.3367e-01, -1.8784e-01, -2.6776e-01, -3.4333e-01,  1.8694e-01,\n",
       "         -2.4514e-01,  9.9056e-02, -1.3394e-01, -2.2762e-02,  1.0897e-01,\n",
       "         -1.4057e-01]], device='mps:0', grad_fn=<CopySlices>)"
      ]
     },
     "execution_count": 39,
     "metadata": {},
     "output_type": "execute_result"
    }
   ],
   "source": [
    "# aggregate the x values of each neighbout node\n",
    "# x is a linear transformation of the original x\n",
    "row, col = edge_index\n",
    "out = torch.zeros(x.size(0), x.size(1)).to(x.device)\n",
    "ic(out.shape)\n",
    "\n",
    "for i, (src, tgt) in enumerate(zip(row, col)):\n",
    "    out[tgt] += norm[i] * x[src]\n",
    "out"
   ]
  },
  {
   "cell_type": "code",
   "execution_count": null,
   "metadata": {},
   "outputs": [
    {
     "data": {
      "text/plain": [
       "True"
      ]
     },
     "execution_count": 23,
     "metadata": {},
     "output_type": "execute_result"
    }
   ],
   "source": []
  },
  {
   "cell_type": "code",
   "execution_count": 34,
   "metadata": {},
   "outputs": [
    {
     "name": "stdout",
     "output_type": "stream",
     "text": [
      "Epoch: 000, Loss: 0.0705\n",
      "Epoch: 020, Loss: 0.0343\n",
      "Epoch: 040, Loss: 0.0279\n",
      "Epoch: 060, Loss: 0.0243\n",
      "Epoch: 080, Loss: 0.0228\n",
      "Epoch: 100, Loss: 0.0223\n",
      "Epoch: 120, Loss: 0.0199\n",
      "Epoch: 140, Loss: 0.0209\n",
      "Epoch: 160, Loss: 0.0172\n",
      "Epoch: 180, Loss: 0.0204\n"
     ]
    }
   ],
   "source": [
    "model = GCN(dataset.num_node_features, 16, data.num_nodes).to(device)\n",
    "data = data.to(device)\n",
    "\n",
    "optimizer = torch.optim.Adam(model.parameters(), lr=0.01, weight_decay=5e-4)\n",
    "\n",
    "model.train()\n",
    "for epoch in range(200):\n",
    "    optimizer.zero_grad()\n",
    "    out = model(data.x, data.edge_index)\n",
    "    loss = F.mse_loss(out, target_jaccard)\n",
    "    loss.backward()\n",
    "    optimizer.step()\n",
    "    if epoch % 20 == 0:\n",
    "        print(f\"Epoch: {epoch:03d}, Loss: {loss:.4f}\")\n",
    "\n",
    "model.eval()\n",
    "embeddings = model(data.x, data.edge_index).cpu().detach().numpy()\n"
   ]
  },
  {
   "cell_type": "code",
   "execution_count": 35,
   "metadata": {},
   "outputs": [
    {
     "data": {
      "image/png": "[encoded data removed]",
      "text/plain": [
       "<Figure size 800x600 with 2 Axes>"
      ]
     },
     "metadata": {},
     "output_type": "display_data"
    }
   ],
   "source": [
    "pca = PCA(n_components=2)\n",
    "Z_2d = pca.fit_transform(embeddings)\n",
    "labels = data.y.cpu().numpy()\n",
    "num_nodes = data.num_nodes\n",
    "# Visualize in 2D\n",
    "plt.figure(figsize=(8, 6))\n",
    "scatter = plt.scatter(Z_2d[:, 0], Z_2d[:, 1], c=labels, cmap=\"viridis\", s=100)\n",
    "plt.colorbar(scatter, label=\"Community Label\")\n",
    "plt.title(\"2D Visualization of Node Embeddings (Zachary Karate Club) with PCA\")\n",
    "plt.xlabel(\"PCA Dimension 1\")\n",
    "plt.ylabel(\"PCA Dimension 2\")\n",
    "for i in range(num_nodes):  # Optional: label nodes\n",
    "    plt.text(Z_2d[i, 0], Z_2d[i, 1], str(i), fontsize=8, ha=\"right\")\n",
    "plt.show()"
   ]
  },
  {
   "cell_type": "code",
   "execution_count": null,
   "metadata": {},
   "outputs": [],
   "source": []
  }
 ],
 "metadata": {
  "kernelspec": {
   "display_name": "cop-gnn-py3.12 (3.12.8)",
   "language": "python",
   "name": "python3"
  },
  "language_info": {
   "codemirror_mode": {
    "name": "ipython",
    "version": 3
   },
   "file_extension": ".py",
   "mimetype": "text/x-python",
   "name": "python",
   "nbconvert_exporter": "python",
   "pygments_lexer": "ipython3",
   "version": "3.12.8"
  }
 },
 "nbformat": 4,
 "nbformat_minor": 2
}
