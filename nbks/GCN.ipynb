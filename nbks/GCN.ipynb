{
 "cells": [
  {
   "cell_type": "code",
   "execution_count": 1,
   "metadata": {},
   "outputs": [],
   "source": [
    "%load_ext autoreload\n",
    "%autoreload 2   "
   ]
  },
  {
   "cell_type": "code",
   "execution_count": 2,
   "metadata": {},
   "outputs": [],
   "source": [
    "import torch\n",
    "import torch.nn as nn\n",
    "from torch_geometric.datasets import KarateClub, TUDataset\n",
    "from torch_geometric.utils import to_networkx, scatter, to_dense_adj\n",
    "from torch_geometric.data import Data\n",
    "from torch_geometric.loader import DataLoader\n",
    "import networkx as nx\n",
    "from matplotlib import pyplot as plt\n",
    "from sklearn.manifold import TSNE\n",
    "from sklearn.decomposition import PCA\n",
    "from icecream import ic\n",
    "import torch\n",
    "import torch.nn as nn\n",
    "import torch.nn.functional as F\n",
    "from torch_geometric.datasets import KarateClub\n",
    "from torch_geometric.utils import add_self_loops, degree, to_dense_adj\n",
    "from sklearn.metrics import jaccard_score\n",
    "import numpy as np\n",
    "import matplotlib.pyplot as plt\n",
    "from sklearn.decomposition import PCA\n"
   ]
  },
  {
   "cell_type": "code",
   "execution_count": 3,
   "metadata": {},
   "outputs": [],
   "source": [
    "device = \"mps\" if torch.backends.mps.is_available() else \"cpu\""
   ]
  },
  {
   "cell_type": "code",
   "execution_count": 4,
   "metadata": {},
   "outputs": [],
   "source": [
    "def compute_jaccard_similarity(edge_index, num_nodes):\n",
    "    adj = to_dense_adj(edge_index, max_num_nodes=num_nodes).squeeze(0).numpy()\n",
    "    jaccard_matrix = np.zeros((num_nodes, num_nodes))\n",
    "    for i in range(num_nodes):\n",
    "        for j in range(num_nodes):\n",
    "            if i != j:\n",
    "                jaccard_matrix[i, j] = jaccard_score(adj[i], adj[j])\n",
    "    return torch.from_numpy(jaccard_matrix).float()\n",
    "\n",
    "\n",
    "dataset = KarateClub()\n",
    "data = dataset[0]\n",
    "\n",
    "target_jaccard = compute_jaccard_similarity(data.edge_index, data.num_nodes).to(device)\n"
   ]
  },
  {
   "cell_type": "code",
   "execution_count": 9,
   "metadata": {},
   "outputs": [],
   "source": [
    "class SimpleGCNConv(nn.Module):\n",
    "    def __init__(self, in_channels, out_channels):\n",
    "        super(SimpleGCNConv, self).__init__()\n",
    "        self.lin = nn.Linear(in_channels, out_channels)\n",
    "\n",
    "    def forward(self, x, edge_index):\n",
    "        edge_index, _ = add_self_loops(edge_index, num_nodes=x.size(0))\n",
    "        row, col = edge_index\n",
    "        deg = degree(col, x.size(0), dtype=x.dtype)\n",
    "        deg_inv_sqrt = deg.pow(-0.5)\n",
    "        deg_inv_sqrt[deg_inv_sqrt == float(\"inf\")] = 0\n",
    "        norm = deg_inv_sqrt[row] * deg_inv_sqrt[col]\n",
    "        x = self.lin(x)\n",
    "        row, col = edge_index\n",
    "        out = torch.zeros(x.size(0), x.size(1)).to(x.device)\n",
    "        for i in range(edge_index.size(1)):\n",
    "            source_node = col[i]\n",
    "            target_node = row[i]\n",
    "            out[target_node] += norm[i] * x[source_node]\n",
    "        return out\n",
    "\n",
    "\n",
    "class GCN(nn.Module):\n",
    "    def __init__(self, in_channels, hidden_channels, out_channels):\n",
    "        super(GCN, self).__init__()\n",
    "        self.conv1 = SimpleGCNConv(in_channels, hidden_channels)\n",
    "        self.conv2 = SimpleGCNConv(hidden_channels, out_channels)\n",
    "\n",
    "    def forward(self, x, edge_index):\n",
    "        x = self.conv1(x, edge_index)\n",
    "        x = F.relu(x)\n",
    "        x = F.dropout(x, training=self.training)\n",
    "        x = self.conv2(x, edge_index)\n",
    "        return x\n"
   ]
  },
  {
   "cell_type": "code",
   "execution_count": 26,
   "metadata": {},
   "outputs": [
    {
     "name": "stderr",
     "output_type": "stream",
     "text": [
      "ic| edge_index: tensor([[ 0,  0,  0,  0,  0,  0,  0,  0,  0,  0,  0,  0,  0,  0,  0,  0,  1,  1,\n",
      "                          1,  1,  1,  1,  1,  1,  1,  2,  2,  2,  2,  2,  2,  2,  2,  2,  2,  3,\n",
      "                          3,  3,  3,  3,  3,  4,  4,  4,  5,  5,  5,  5,  6,  6,  6,  6,  7,  7,\n",
      "                          7,  7,  8,  8,  8,  8,  8,  9,  9, 10, 10, 10, 11, 12, 12, 13, 13, 13,\n",
      "                         13, 13, 14, 14, 15, 15, 16, 16, 17, 17, 18, 18, 19, 19, 19, 20, 20, 21,\n",
      "                         21, 22, 22, 23, 23, 23, 23, 23, 24, 24, 24, 25, 25, 25, 26, 26, 27, 27,\n",
      "                         27, 27, 28, 28, 28, 29, 29, 29, 29, 30, 30, 30, 30, 31, 31, 31, 31, 31,\n",
      "                         31, 32, 32, 32, 32, 32, 32, 32, 32, 32, 32, 32, 32, 33, 33, 33, 33, 33,\n",
      "                         33, 33, 33, 33, 33, 33, 33, 33, 33, 33, 33, 33,  0,  1,  2,  3,  4,  5,\n",
      "                          6,  7,  8,  9, 10, 11, 12, 13, 14, 15, 16, 17, 18, 19, 20, 21, 22, 23,\n",
      "                         24, 25, 26, 27, 28, 29, 30, 31, 32, 33],\n",
      "                        [ 1,  2,  3,  4,  5,  6,  7,  8, 10, 11, 12, 13, 17, 19, 21, 31,  0,  2,\n",
      "                          3,  7, 13, 17, 19, 21, 30,  0,  1,  3,  7,  8,  9, 13, 27, 28, 32,  0,\n",
      "                          1,  2,  7, 12, 13,  0,  6, 10,  0,  6, 10, 16,  0,  4,  5, 16,  0,  1,\n",
      "                          2,  3,  0,  2, 30, 32, 33,  2, 33,  0,  4,  5,  0,  0,  3,  0,  1,  2,\n",
      "                          3, 33, 32, 33, 32, 33,  5,  6,  0,  1, 32, 33,  0,  1, 33, 32, 33,  0,\n",
      "                          1, 32, 33, 25, 27, 29, 32, 33, 25, 27, 31, 23, 24, 31, 29, 33,  2, 23,\n",
      "                         24, 33,  2, 31, 33, 23, 26, 32, 33,  1,  8, 32, 33,  0, 24, 25, 28, 32,\n",
      "                         33,  2,  8, 14, 15, 18, 20, 22, 23, 29, 30, 31, 33,  8,  9, 13, 14, 15,\n",
      "                         18, 19, 20, 22, 23, 26, 27, 28, 29, 30, 31, 32,  0,  1,  2,  3,  4,  5,\n",
      "                          6,  7,  8,  9, 10, 11, 12, 13, 14, 15, 16, 17, 18, 19, 20, 21, 22, 23,\n",
      "                         24, 25, 26, 27, 28, 29, 30, 31, 32, 33]], device='mps:0')\n"
     ]
    }
   ],
   "source": [
    "data = data.to(device)\n",
    "edge_index, _ = add_self_loops(data.edge_index, num_nodes=data.num_nodes)\n",
    "ic(edge_index);"
   ]
  },
  {
   "cell_type": "code",
   "execution_count": 27,
   "metadata": {},
   "outputs": [
    {
     "data": {
      "text/plain": [
       "torch.float32"
      ]
     },
     "execution_count": 27,
     "metadata": {},
     "output_type": "execute_result"
    }
   ],
   "source": [
    "data.x.shape, data.edge_index.shape, data.num_nodes\n",
    "data.x.dtype"
   ]
  },
  {
   "cell_type": "code",
   "execution_count": 33,
   "metadata": {},
   "outputs": [
    {
     "name": "stderr",
     "output_type": "stream",
     "text": [
      "ic| row: tensor([ 0,  0,  0,  0,  0,  0,  0,  0,  0,  0,  0,  0,  0,  0,  0,  0,  1,  1,\n",
      "                  1,  1,  1,  1,  1,  1,  1,  2,  2,  2,  2,  2,  2,  2,  2,  2,  2,  3,\n",
      "                  3,  3,  3,  3,  3,  4,  4,  4,  5,  5,  5,  5,  6,  6,  6,  6,  7,  7,\n",
      "                  7,  7,  8,  8,  8,  8,  8,  9,  9, 10, 10, 10, 11, 12, 12, 13, 13, 13,\n",
      "                 13, 13, 14, 14, 15, 15, 16, 16, 17, 17, 18, 18, 19, 19, 19, 20, 20, 21,\n",
      "                 21, 22, 22, 23, 23, 23, 23, 23, 24, 24, 24, 25, 25, 25, 26, 26, 27, 27,\n",
      "                 27, 27, 28, 28, 28, 29, 29, 29, 29, 30, 30, 30, 30, 31, 31, 31, 31, 31,\n",
      "                 31, 32, 32, 32, 32, 32, 32, 32, 32, 32, 32, 32, 32, 33, 33, 33, 33, 33,\n",
      "                 33, 33, 33, 33, 33, 33, 33, 33, 33, 33, 33, 33,  0,  1,  2,  3,  4,  5,\n",
      "                  6,  7,  8,  9, 10, 11, 12, 13, 14, 15, 16, 17, 18, 19, 20, 21, 22, 23,\n",
      "                 24, 25, 26, 27, 28, 29, 30, 31, 32, 33], device='mps:0')\n",
      "    col: tensor([ 1,  2,  3,  4,  5,  6,  7,  8, 10, 11, 12, 13, 17, 19, 21, 31,  0,  2,\n",
      "                  3,  7, 13, 17, 19, 21, 30,  0,  1,  3,  7,  8,  9, 13, 27, 28, 32,  0,\n",
      "                  1,  2,  7, 12, 13,  0,  6, 10,  0,  6, 10, 16,  0,  4,  5, 16,  0,  1,\n",
      "                  2,  3,  0,  2, 30, 32, 33,  2, 33,  0,  4,  5,  0,  0,  3,  0,  1,  2,\n",
      "                  3, 33, 32, 33, 32, 33,  5,  6,  0,  1, 32, 33,  0,  1, 33, 32, 33,  0,\n",
      "                  1, 32, 33, 25, 27, 29, 32, 33, 25, 27, 31, 23, 24, 31, 29, 33,  2, 23,\n",
      "                 24, 33,  2, 31, 33, 23, 26, 32, 33,  1,  8, 32, 33,  0, 24, 25, 28, 32,\n",
      "                 33,  2,  8, 14, 15, 18, 20, 22, 23, 29, 30, 31, 33,  8,  9, 13, 14, 15,\n",
      "                 18, 19, 20, 22, 23, 26, 27, 28, 29, 30, 31, 32,  0,  1,  2,  3,  4,  5,\n",
      "                  6,  7,  8,  9, 10, 11, 12, 13, 14, 15, 16, 17, 18, 19, 20, 21, 22, 23,\n",
      "                 24, 25, 26, 27, 28, 29, 30, 31, 32, 33], device='mps:0')\n",
      "ic| deg: tensor([17., 10., 11.,  7.,  4.,  5.,  5.,  5.,  6.,  3.,  4.,  2.,  3.,  6.,\n",
      "                  3.,  3.,  3.,  3.,  3.,  4.,  3.,  3.,  3.,  6.,  4.,  4.,  3.,  5.,\n",
      "                  4.,  5.,  5.,  7., 13., 18.], device='mps:0')\n",
      "    deg.shape: torch.Size([34])\n"
     ]
    }
   ],
   "source": [
    "row, col = edge_index\n",
    "ic(row, col)\n",
    "deg = degree(index=col, num_nodes=data.x.size(0), dtype=data.x.dtype)\n",
    "ic(deg, deg.shape);"
   ]
  },
  {
   "cell_type": "code",
   "execution_count": 35,
   "metadata": {},
   "outputs": [
    {
     "name": "stderr",
     "output_type": "stream",
     "text": [
      "ic| deg_inv_sqrt: tensor([0.2425, 0.3162, 0.3015, 0.3780, 0.5000, 0.4472, 0.4472, 0.4472, 0.4082,\n",
      "                          0.5774, 0.5000, 0.7071, 0.5774, 0.4082, 0.5774, 0.5774, 0.5774, 0.5774,\n",
      "                          0.5774, 0.5000, 0.5774, 0.5774, 0.5774, 0.4082, 0.5000, 0.5000, 0.5774,\n",
      "                          0.4472, 0.5000, 0.4472, 0.4472, 0.3780, 0.2774, 0.2357],\n",
      "                         device='mps:0')\n",
      "ic| deg_inv_sqrt: tensor([0.2425, 0.3162, 0.3015, 0.3780, 0.5000, 0.4472, 0.4472, 0.4472, 0.4082,\n",
      "                          0.5774, 0.5000, 0.7071, 0.5774, 0.4082, 0.5774, 0.5774, 0.5774, 0.5774,\n",
      "                          0.5774, 0.5000, 0.5774, 0.5774, 0.5774, 0.4082, 0.5000, 0.5000, 0.5774,\n",
      "                          0.4472, 0.5000, 0.4472, 0.4472, 0.3780, 0.2774, 0.2357],\n",
      "                         device='mps:0')\n"
     ]
    }
   ],
   "source": [
    "deg_inv_sqrt = deg.pow(-0.5)\n",
    "ic(deg_inv_sqrt)\n",
    "deg_inv_sqrt[deg_inv_sqrt == float(\"inf\")] = 0\n",
    "ic(deg_inv_sqrt);"
   ]
  },
  {
   "cell_type": "code",
   "execution_count": 38,
   "metadata": {},
   "outputs": [
    {
     "name": "stderr",
     "output_type": "stream",
     "text": [
      "ic| deg_inv_sqrt[row]: tensor([0.2425, 0.2425, 0.2425, 0.2425, 0.2425, 0.2425, 0.2425, 0.2425, 0.2425,\n",
      "                               0.2425, 0.2425, 0.2425, 0.2425, 0.2425, 0.2425, 0.2425, 0.3162, 0.3162,\n",
      "                               0.3162, 0.3162, 0.3162, 0.3162, 0.3162, 0.3162, 0.3162, 0.3015, 0.3015,\n",
      "                               0.3015, 0.3015, 0.3015, 0.3015, 0.3015, 0.3015, 0.3015, 0.3015, 0.3780,\n",
      "                               0.3780, 0.3780, 0.3780, 0.3780, 0.3780, 0.5000, 0.5000, 0.5000, 0.4472,\n",
      "                               0.4472, 0.4472, 0.4472, 0.4472, 0.4472, 0.4472, 0.4472, 0.4472, 0.4472,\n",
      "                               0.4472, 0.4472, 0.4082, 0.4082, 0.4082, 0.4082, 0.4082, 0.5774, 0.5774,\n",
      "                               0.5000, 0.5000, 0.5000, 0.7071, 0.5774, 0.5774, 0.4082, 0.4082, 0.4082,\n",
      "                               0.4082, 0.4082, 0.5774, 0.5774, 0.5774, 0.5774, 0.5774, 0.5774, 0.5774,\n",
      "                               0.5774, 0.5774, 0.5774, 0.5000, 0.5000, 0.5000, 0.5774, 0.5774, 0.5774,\n",
      "                               0.5774, 0.5774, 0.5774, 0.4082, 0.4082, 0.4082, 0.4082, 0.4082, 0.5000,\n",
      "                               0.5000, 0.5000, 0.5000, 0.5000, 0.5000, 0.5774, 0.5774, 0.4472, 0.4472,\n",
      "                               0.4472, 0.4472, 0.5000, 0.5000, 0.5000, 0.4472, 0.4472, 0.4472, 0.4472,\n",
      "                               0.4472, 0.4472, 0.4472, 0.4472, 0.3780, 0.3780, 0.3780, 0.3780, 0.3780,\n",
      "                               0.3780, 0.2774, 0.2774, 0.2774, 0.2774, 0.2774, 0.2774, 0.2774, 0.2774,\n",
      "                               0.2774, 0.2774, 0.2774, 0.2774, 0.2357, 0.2357, 0.2357, 0.2357, 0.2357,\n",
      "                               0.2357, 0.2357, 0.2357, 0.2357, 0.2357, 0.2357, 0.2357, 0.2357, 0.2357,\n",
      "                               0.2357, 0.2357, 0.2357, 0.2425, 0.3162, 0.3015, 0.3780, 0.5000, 0.4472,\n",
      "                               0.4472, 0.4472, 0.4082, 0.5774, 0.5000, 0.7071, 0.5774, 0.4082, 0.5774,\n",
      "                               0.5774, 0.5774, 0.5774, 0.5774, 0.5000, 0.5774, 0.5774, 0.5774, 0.4082,\n",
      "                               0.5000, 0.5000, 0.5774, 0.4472, 0.5000, 0.4472, 0.4472, 0.3780, 0.2774,\n",
      "                               0.2357], device='mps:0')\n",
      "ic| norm: tensor([0.0767, 0.0731, 0.0917, 0.1213, 0.1085, 0.1085, 0.1085, 0.0990, 0.1213,\n",
      "                  0.1715, 0.1400, 0.0990, 0.1400, 0.1213, 0.1400, 0.0917, 0.0767, 0.0953,\n",
      "                  0.1195, 0.1414, 0.1291, 0.1826, 0.1581, 0.1826, 0.1414, 0.0731, 0.0953,\n",
      "                  0.1140, 0.1348, 0.1231, 0.1741, 0.1231, 0.1348, 0.1508, 0.0836, 0.0917,\n",
      "                  0.1195, 0.1140, 0.1690, 0.2182, 0.1543, 0.1213, 0.2236, 0.2500, 0.1085,\n",
      "                  0.2000, 0.2236, 0.2582, 0.1085, 0.2236, 0.2000, 0.2582, 0.1085, 0.1414,\n",
      "                  0.1348, 0.1690, 0.0990, 0.1231, 0.1826, 0.1132, 0.0962, 0.1741, 0.1361,\n",
      "                  0.1213, 0.2500, 0.2236, 0.1715, 0.1400, 0.2182, 0.0990, 0.1291, 0.1231,\n",
      "                  0.1543, 0.0962, 0.1601, 0.1361, 0.1601, 0.1361, 0.2582, 0.2582, 0.1400,\n",
      "                  0.1826, 0.1601, 0.1361, 0.1213, 0.1581, 0.1179, 0.1601, 0.1361, 0.1400,\n",
      "                  0.1826, 0.1601, 0.1361, 0.2041, 0.1826, 0.1826, 0.1132, 0.0962, 0.2500,\n",
      "                  0.2236, 0.1890, 0.2041, 0.2500, 0.1890, 0.2582, 0.1361, 0.1348, 0.1826,\n",
      "                  0.2236, 0.1054, 0.1508, 0.1890, 0.1179, 0.1826, 0.2582, 0.1240, 0.1054,\n",
      "                  0.1414, 0.1826, 0.1240, 0.1054, 0.0917, 0.1890, 0.1890, 0.1890, 0.1048,\n",
      "                  0.0891, 0.0836, 0.1132, 0.1601, 0.1601, 0.1601, 0.1601, 0.1601, 0.1132,\n",
      "                  0.1240, 0.1240, 0.1048, 0.0654, 0.0962, 0.1361, 0.0962, 0.1361, 0.1361,\n",
      "                  0.1361, 0.1179, 0.1361, 0.1361, 0.0962, 0.1361, 0.1054, 0.1179, 0.1054,\n",
      "                  0.1054, 0.0891, 0.0654, 0.0588, 0.1000, 0.0909, 0.1429, 0.2500, 0.2000,\n",
      "                  0.2000, 0.2000, 0.1667, 0.3333, 0.2500, 0.5000, 0.3333, 0.1667, 0.3333,\n",
      "                  0.3333, 0.3333, 0.3333, 0.3333, 0.2500, 0.3333, 0.3333, 0.3333, 0.1667,\n",
      "                  0.2500, 0.2500, 0.3333, 0.2000, 0.2500, 0.2000, 0.2000, 0.1429, 0.0769,\n",
      "                  0.0556], device='mps:0')\n"
     ]
    }
   ],
   "source": [
    "# multiply row with its corresponding value in deg_inv_sqrt * col with its corresponding value in deg_inv_sqrt\n",
    "norm = deg_inv_sqrt[row] * deg_inv_sqrt[col]\n",
    "ic(deg_inv_sqrt[row])\n",
    "ic(norm);"
   ]
  },
  {
   "cell_type": "code",
   "execution_count": 41,
   "metadata": {},
   "outputs": [
    {
     "name": "stderr",
     "output_type": "stream",
     "text": [
      "ic| x.shape: torch.Size([34, 16])\n"
     ]
    },
    {
     "data": {
      "text/plain": [
       "torch.Size([34, 16])"
      ]
     },
     "execution_count": 41,
     "metadata": {},
     "output_type": "execute_result"
    }
   ],
   "source": [
    "in_channels = dataset.num_features\n",
    "out_channels = 16\n",
    "lin = nn.Linear(in_channels, out_channels).to(device)\n",
    "x = lin(data.x)\n",
    "ic(x.shape)"
   ]
  },
  {
   "cell_type": "code",
   "execution_count": null,
   "metadata": {},
   "outputs": [],
   "source": []
  },
  {
   "cell_type": "code",
   "execution_count": 22,
   "metadata": {},
   "outputs": [
    {
     "name": "stdout",
     "output_type": "stream",
     "text": [
      "Epoch: 000, Loss: 0.0780\n",
      "Epoch: 020, Loss: 0.0333\n",
      "Epoch: 040, Loss: 0.0263\n",
      "Epoch: 060, Loss: 0.0205\n",
      "Epoch: 080, Loss: 0.0248\n",
      "Epoch: 100, Loss: 0.0193\n",
      "Epoch: 120, Loss: 0.0175\n",
      "Epoch: 140, Loss: 0.0210\n",
      "Epoch: 160, Loss: 0.0202\n",
      "Epoch: 180, Loss: 0.0160\n"
     ]
    }
   ],
   "source": [
    "model = GCN(dataset.num_node_features, 16, data.num_nodes).to(device)\n",
    "data = data.to(device)\n",
    "\n",
    "optimizer = torch.optim.Adam(model.parameters(), lr=0.01, weight_decay=5e-4)\n",
    "\n",
    "model.train()\n",
    "for epoch in range(200):\n",
    "    optimizer.zero_grad()\n",
    "    out = model(data.x, data.edge_index)\n",
    "    loss = F.mse_loss(out, target_jaccard)\n",
    "    loss.backward()\n",
    "    optimizer.step()\n",
    "    if epoch % 20 == 0:\n",
    "        print(f\"Epoch: {epoch:03d}, Loss: {loss:.4f}\")\n",
    "\n",
    "model.eval()\n",
    "embeddings = model(data.x, data.edge_index).cpu().detach().numpy()\n"
   ]
  },
  {
   "cell_type": "code",
   "execution_count": null,
   "metadata": {},
   "outputs": [],
   "source": [
    "pca = PCA(n_components=2)\n",
    "Z_2d = pca.fit_transform(embeddings)\n",
    "labels = data.y.cpu().numpy()\n",
    "num_nodes = data.num_nodes\n",
    "# Visualize in 2D\n",
    "plt.figure(figsize=(8, 6))\n",
    "scatter = plt.scatter(Z_2d[:, 0], Z_2d[:, 1], c=labels, cmap=\"viridis\", s=100)\n",
    "plt.colorbar(scatter, label=\"Community Label\")\n",
    "plt.title(\"2D Visualization of Node Embeddings (Zachary Karate Club) with PCA\")\n",
    "plt.xlabel(\"PCA Dimension 1\")\n",
    "plt.ylabel(\"PCA Dimension 2\")\n",
    "for i in range(num_nodes):  # Optional: label nodes\n",
    "    plt.text(Z_2d[i, 0], Z_2d[i, 1], str(i), fontsize=8, ha=\"right\")\n",
    "plt.show()"
   ]
  },
  {
   "cell_type": "code",
   "execution_count": null,
   "metadata": {},
   "outputs": [],
   "source": []
  }
 ],
 "metadata": {
  "kernelspec": {
   "display_name": ".venv (3.12.8)",
   "language": "python",
   "name": "python3"
  },
  "language_info": {
   "codemirror_mode": {
    "name": "ipython",
    "version": 3
   },
   "file_extension": ".py",
   "mimetype": "text/x-python",
   "name": "python",
   "nbconvert_exporter": "python",
   "pygments_lexer": "ipython3",
   "version": "3.12.8"
  }
 },
 "nbformat": 4,
 "nbformat_minor": 2
}
